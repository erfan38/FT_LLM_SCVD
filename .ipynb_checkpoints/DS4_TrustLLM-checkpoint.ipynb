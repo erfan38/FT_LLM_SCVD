{
 "cells": [
  {
   "cell_type": "code",
   "execution_count": 31,
   "id": "58044533-367a-4d08-af6b-1c44c08ee17e",
   "metadata": {},
   "outputs": [],
   "source": [
    "import json, openai\n",
    "import os, sys\n",
    "from openai import OpenAI\n",
    "from tqdm.notebook import tqdm\n",
    "import time\n",
    "project_root = os.path.abspath(os.path.join(os.getcwd(), '..', '..'))\n",
    "sys.path.append(project_root)\n",
    "from config.keys import OPENAI_API_KEY"
   ]
  },
  {
   "cell_type": "code",
   "execution_count": 32,
   "id": "724454be-fa58-45e3-86cb-228c9dc9e7d6",
   "metadata": {},
   "outputs": [],
   "source": [
    "class Generator:\n",
    "    def __init__(self):\n",
    "        self.client = openai\n",
    "        self.json_formatter = \"Return the response in RFC8259 compliant JSON according to the ResponseFormat schema with no other text.\"\n",
    "        self.message = [{\n",
    "            \"role\": \"system\",\n",
    "            \"content\": \"You are a cyber-security programmer that can detect line numbers from the contract based on the instruction.\"\n",
    "        }]\n",
    "        self.output_formatter = \"\"\"\n",
    "This should instruct the model to output exactly the vulnerability lines, ensuring it doesn't output extra lines or large ranges that contain unrelated code.\n",
    "\n",
    "Response Schema:\n",
    " [\n",
    "    {\n",
    "      \"start_line\": <exact_start_line_number>,\n",
    "      \"end_line\": <exact_end_line_number>,\n",
    "      \"code\": [\n",
    "        \"vulnerable line 1\",\n",
    "        \"vulnerable line 2\",\n",
    "        \"... (and so on)\"\n",
    "      ]\n",
    "    }\n",
    " ]\n",
    " \n",
    "** Do not use ```json or any other extra texts in the output. Include only the list of detected lines as the schema.\n",
    "\"\"\"\n",
    "        self.user_prefix = \"\"\"You are given a record from a dataset containing smart contract vulnerability analyses. Each record contains an \"id\", \"prompt\", and \"completion\". The \"prompt\" includes both the instructions and the smart contract code snippet, while the \"completion\" provides the vulnerability analysis.\n",
    "\n",
    "Your task is to extract the exact lines of code that are vulnerable from the smart contract code. If the contract is vulnerable, output the minimal range of lines (with exact start and end line numbers) and the code lines themselves in the JSON Response Schema format provided below. If the contract is safe, do not output any JSON (i.e. return an empty result).\n",
    "\n",
    "Instructions:\n",
    "- Extract the smart contract code from the prompt.\n",
    "- If the completion analysis indicates that the contract is vulnerable (i.e. it does not state that the contract is safe), locate the vulnerable lines of code precisely.\n",
    "- Do not include any extra commentary or unrelated code; only include the vulnerable lines.\n",
    "\"\"\"\n",
    "    def get_user_message(self, dataset_output, contract):\n",
    "        self.user_content = f\"\"\"\n",
    "{self.user_prefix}\n",
    "\n",
    "This is the helping document to find the lines of vulnerable codes.\n",
    "Guideline:\n",
    "{dataset_output}\n",
    "\n",
    "Smart contract code:\n",
    "{contract}\n",
    "\n",
    "Additional Note:\n",
    "- Only output the minimal range of code lines that are directly vulnerable.\n",
    "- Do not include any commentary or unrelated code.\n",
    "- Follow the JSON Response Schema exactly:\n",
    "[\n",
    "    {{\n",
    "      \"start_line\": <exact_start_line_number>,\n",
    "      \"end_line\": <exact_end_line_number>,\n",
    "      \"code\": [\n",
    "        \"vulnerable line 1\",\n",
    "        \"vulnerable line 2\",\n",
    "        \"... (and so on)\"\n",
    "      ]\n",
    "    }}\n",
    "]\n",
    "\"\"\"\n",
    "        self.user_message = {\"role\": \"user\", \"content\": self.user_content}\n",
    "    def create_prompt(self, dataset_output, contract):\n",
    "        self.get_user_message(dataset_output, contract)\n",
    "        self.message.append(self.user_message)\n",
    "        \n",
    "        def generate(self):\n",
    "        \n",
    "        completion = self.client.chat.completions.create(\n",
    "          model=\"gpt-4o-mini\",\n",
    "          messages = self.message,\n",
    "          temperature=0.1,\n",
    "          max_tokens=3200,\n",
    "          top_p=1.,\n",
    "          frequency_penalty=0,\n",
    "          presence_penalty=0,\n",
    "          stop=None\n",
    "        )\n",
    "        answer = completion.choices[0].message.content\n",
    "        return answer, completion"
   ]
  },
  {
   "cell_type": "code",
   "execution_count": 33,
   "id": "b43e2901-b2b4-4835-8c74-ff285316827d",
   "metadata": {},
   "outputs": [],
   "source": [
    "dataset_name = \"train_TrustLLM\"\n",
    "output_dir = os.path.join(\"data\", \"processed_data\", dataset_name)\n",
    "os.makedirs(output_dir, exist_ok=True)\n",
    "\n",
    "contracts_dir = os.path.join(output_dir, \"contracts\")\n",
    "os.makedirs(contracts_dir, exist_ok=True)\n",
    "\n",
    "locs_dir = os.path.join(output_dir, \"LOCs\")\n",
    "os.makedirs(locs_dir, exist_ok=True)\n",
    "\n",
    "raw_dir = os.path.join(\"data\", \"dataset\", \"raw\")\n",
    "dataset_path = os.path.join(raw_dir, f\"{dataset_name}.json\")\n",
    "\n",
    "if not os.path.exists(dataset_path):\n",
    "    raise FileNotFoundError(f\"Dataset file not found at: {dataset_path}\")"
   ]
  },
  {
   "cell_type": "code",
   "execution_count": 34,
   "id": "6d693dd8-c5e1-4ba6-ab18-ed71d17526e7",
   "metadata": {},
   "outputs": [
    {
     "name": "stdout",
     "output_type": "stream",
     "text": [
      "Total records: 20885\n"
     ]
    }
   ],
   "source": [
    "with open(dataset_path, \"r\", encoding=\"utf-8\") as file:\n",
    "    data = json.load(file)\n",
    "print(\"Total records:\", len(data))\n",
    "#print(data[1][\"completion\"])"
   ]
  },
  {
   "cell_type": "code",
   "execution_count": 35,
   "id": "e9d2518a-fc1e-408e-87ec-c7161747f179",
   "metadata": {},
   "outputs": [
    {
     "name": "stdout",
     "output_type": "stream",
     "text": [
      "There are duplicate record ids.\n"
     ]
    }
   ],
   "source": [
    "ids = [record.get(\"id\") for record in data]\n",
    "if len(ids) == len(set(ids)):\n",
    "    print(\"All record ids are unique.\")\n",
    "else:\n",
    "    print(\"There are duplicate record ids.\")"
   ]
  },
  {
   "cell_type": "code",
   "execution_count": 36,
   "id": "5b47f403-db89-45fd-99d5-fd471053b81f",
   "metadata": {},
   "outputs": [
    {
     "data": {
      "application/vnd.jupyter.widget-view+json": {
       "model_id": "6172cece20e6419894c5ae2903e7e7d9",
       "version_major": 2,
       "version_minor": 0
      },
      "text/plain": [
       "Processing Records:   0%|          | 0/20 [00:00<?, ?it/s]"
      ]
     },
     "metadata": {},
     "output_type": "display_data"
    },
    {
     "name": "stdout",
     "output_type": "stream",
     "text": [
      "Record 0 is marked as safe. Skipping vulnerability extraction.\n",
      "Record 1 is marked as safe. Skipping vulnerability extraction.\n",
      "Record 2 is marked as safe. Skipping vulnerability extraction.\n",
      "Record 3 is marked as safe. Skipping vulnerability extraction.\n",
      "Record 4 is marked as safe. Skipping vulnerability extraction.\n",
      "Extracting vulnerability for Record 5 (vulnerable contract index: 0)...\n"
     ]
    },
    {
     "ename": "APIRemovedInV1",
     "evalue": "\n\nYou tried to access openai.ChatCompletion, but this is no longer supported in openai>=1.0.0 - see the README at https://github.com/openai/openai-python for the API.\n\nYou can run `openai migrate` to automatically upgrade your codebase to use the 1.0.0 interface. \n\nAlternatively, you can pin your installation to the old version, e.g. `pip install openai==0.28`\n\nA detailed migration guide is available here: https://github.com/openai/openai-python/discussions/742\n",
     "output_type": "error",
     "traceback": [
      "\u001b[1;31m---------------------------------------------------------------------------\u001b[0m",
      "\u001b[1;31mAPIRemovedInV1\u001b[0m                            Traceback (most recent call last)",
      "Cell \u001b[1;32mIn[36], line 41\u001b[0m\n\u001b[0;32m     39\u001b[0m generator\u001b[38;5;241m.\u001b[39mcreate_prompt(completion_text, numbered_contract)\n\u001b[0;32m     40\u001b[0m start_time \u001b[38;5;241m=\u001b[39m time\u001b[38;5;241m.\u001b[39mtime()\n\u001b[1;32m---> 41\u001b[0m answer, _ \u001b[38;5;241m=\u001b[39m \u001b[43mgenerator\u001b[49m\u001b[38;5;241;43m.\u001b[39;49m\u001b[43mgenerate\u001b[49m\u001b[43m(\u001b[49m\u001b[43m)\u001b[49m\n\u001b[0;32m     42\u001b[0m \u001b[38;5;28mprint\u001b[39m(\u001b[38;5;124mf\u001b[39m\u001b[38;5;124m\"\u001b[39m\u001b[38;5;124mVulnerability extraction for Record \u001b[39m\u001b[38;5;132;01m{\u001b[39;00midx\u001b[38;5;132;01m}\u001b[39;00m\u001b[38;5;124m completed in \u001b[39m\u001b[38;5;132;01m{\u001b[39;00m\u001b[38;5;28mround\u001b[39m(time\u001b[38;5;241m.\u001b[39mtime()\u001b[38;5;250m \u001b[39m\u001b[38;5;241m-\u001b[39m\u001b[38;5;250m \u001b[39mstart_time,\u001b[38;5;250m \u001b[39m\u001b[38;5;241m2\u001b[39m)\u001b[38;5;132;01m}\u001b[39;00m\u001b[38;5;124m seconds\u001b[39m\u001b[38;5;124m\"\u001b[39m)\n\u001b[0;32m     44\u001b[0m \u001b[38;5;66;03m# Parse the answer as JSON and save the vulnerability details if extraction was successful.\u001b[39;00m\n",
      "Cell \u001b[1;32mIn[32], line 68\u001b[0m, in \u001b[0;36mGenerator.generate\u001b[1;34m(self)\u001b[0m\n\u001b[0;32m     67\u001b[0m \u001b[38;5;28;01mdef\u001b[39;00m \u001b[38;5;21mgenerate\u001b[39m(\u001b[38;5;28mself\u001b[39m):\n\u001b[1;32m---> 68\u001b[0m     response \u001b[38;5;241m=\u001b[39m \u001b[38;5;28;43mself\u001b[39;49m\u001b[38;5;241;43m.\u001b[39;49m\u001b[43mclient\u001b[49m\u001b[38;5;241;43m.\u001b[39;49m\u001b[43mChatCompletion\u001b[49m\u001b[38;5;241;43m.\u001b[39;49m\u001b[43mcreate\u001b[49m\u001b[43m(\u001b[49m\n\u001b[0;32m     69\u001b[0m \u001b[43m      \u001b[49m\u001b[43mmodel\u001b[49m\u001b[38;5;241;43m=\u001b[39;49m\u001b[38;5;124;43m\"\u001b[39;49m\u001b[38;5;124;43mgpt-4o-mini\u001b[39;49m\u001b[38;5;124;43m\"\u001b[39;49m\u001b[43m,\u001b[49m\u001b[43m  \u001b[49m\u001b[38;5;66;43;03m# Adjust model as needed\u001b[39;49;00m\n\u001b[0;32m     70\u001b[0m \u001b[43m      \u001b[49m\u001b[43mmessages\u001b[49m\u001b[38;5;241;43m=\u001b[39;49m\u001b[38;5;28;43mself\u001b[39;49m\u001b[38;5;241;43m.\u001b[39;49m\u001b[43mmessage\u001b[49m\u001b[43m,\u001b[49m\n\u001b[0;32m     71\u001b[0m \u001b[43m      \u001b[49m\u001b[43mtemperature\u001b[49m\u001b[38;5;241;43m=\u001b[39;49m\u001b[38;5;241;43m0.1\u001b[39;49m\u001b[43m,\u001b[49m\n\u001b[0;32m     72\u001b[0m \u001b[43m      \u001b[49m\u001b[43mmax_tokens\u001b[49m\u001b[38;5;241;43m=\u001b[39;49m\u001b[38;5;241;43m3200\u001b[39;49m\u001b[43m,\u001b[49m\n\u001b[0;32m     73\u001b[0m \u001b[43m      \u001b[49m\u001b[43mtop_p\u001b[49m\u001b[38;5;241;43m=\u001b[39;49m\u001b[38;5;241;43m1.0\u001b[39;49m\u001b[43m,\u001b[49m\n\u001b[0;32m     74\u001b[0m \u001b[43m      \u001b[49m\u001b[43mfrequency_penalty\u001b[49m\u001b[38;5;241;43m=\u001b[39;49m\u001b[38;5;241;43m0\u001b[39;49m\u001b[43m,\u001b[49m\n\u001b[0;32m     75\u001b[0m \u001b[43m      \u001b[49m\u001b[43mpresence_penalty\u001b[49m\u001b[38;5;241;43m=\u001b[39;49m\u001b[38;5;241;43m0\u001b[39;49m\n\u001b[0;32m     76\u001b[0m \u001b[43m    \u001b[49m\u001b[43m)\u001b[49m\n\u001b[0;32m     77\u001b[0m     answer \u001b[38;5;241m=\u001b[39m response\u001b[38;5;241m.\u001b[39mchoices[\u001b[38;5;241m0\u001b[39m]\u001b[38;5;241m.\u001b[39mmessage\u001b[38;5;241m.\u001b[39mcontent\n\u001b[0;32m     78\u001b[0m     \u001b[38;5;28;01mreturn\u001b[39;00m answer, response\n",
      "File \u001b[1;32m~\\OneDrive - polymtlus\\Apps\\envs\\myenv\\lib\\site-packages\\openai\\lib\\_old_api.py:39\u001b[0m, in \u001b[0;36mAPIRemovedInV1Proxy.__call__\u001b[1;34m(self, *_args, **_kwargs)\u001b[0m\n\u001b[0;32m     38\u001b[0m \u001b[38;5;28;01mdef\u001b[39;00m \u001b[38;5;21m__call__\u001b[39m(\u001b[38;5;28mself\u001b[39m, \u001b[38;5;241m*\u001b[39m_args: Any, \u001b[38;5;241m*\u001b[39m\u001b[38;5;241m*\u001b[39m_kwargs: Any) \u001b[38;5;241m-\u001b[39m\u001b[38;5;241m>\u001b[39m Any:\n\u001b[1;32m---> 39\u001b[0m     \u001b[38;5;28;01mraise\u001b[39;00m APIRemovedInV1(symbol\u001b[38;5;241m=\u001b[39m\u001b[38;5;28mself\u001b[39m\u001b[38;5;241m.\u001b[39m_symbol)\n",
      "\u001b[1;31mAPIRemovedInV1\u001b[0m: \n\nYou tried to access openai.ChatCompletion, but this is no longer supported in openai>=1.0.0 - see the README at https://github.com/openai/openai-python for the API.\n\nYou can run `openai migrate` to automatically upgrade your codebase to use the 1.0.0 interface. \n\nAlternatively, you can pin your installation to the old version, e.g. `pip install openai==0.28`\n\nA detailed migration guide is available here: https://github.com/openai/openai-python/discussions/742\n"
     ]
    }
   ],
   "source": [
    "end_contract = 20\n",
    "vul_idx = 0  # Counter for vulnerable smart contracts\n",
    "\n",
    "for idx, record in enumerate(tqdm(data[:end_contract], desc=\"Processing Records\")):\n",
    "    prompt_text = record.get(\"prompt\", \"\")\n",
    "    completion_text = record.get(\"completion\", \"\")\n",
    "    \n",
    "    # Extract smart contract code from the prompt.\n",
    "    # This regex now matches any code block enclosed in triple backticks regardless of the language tag.\n",
    "    code_match = re.search(r\"```[^\\n]*\\n(.*?)\\n```\", prompt_text, re.DOTALL)\n",
    "    if code_match:\n",
    "        contract_code = code_match.group(1).strip()\n",
    "    else:\n",
    "        print(f\"Record {idx}: No smart contract code found in prompt.\")\n",
    "        continue\n",
    "    \n",
    "    # Skip safe contracts\n",
    "    if \"appears to be safe\" in completion_text.lower():\n",
    "        print(f\"Record {idx} is marked as safe. Skipping vulnerability extraction.\")\n",
    "        continue\n",
    "    # Otherwise, if it does not mention \"the issue\", assume there is no clear vulnerability description.\n",
    "    if \"the issue\" not in completion_text.lower():\n",
    "        print(f\"Record {idx} does not clearly indicate a vulnerability. Skipping vulnerability extraction.\")\n",
    "        continue\n",
    "\n",
    "    # Save the vulnerable smart contract code to a .sol file using vul_idx for numbering\n",
    "    sol_filepath = os.path.join(contracts_dir, f\"{vul_idx}.sol\")\n",
    "    with open(sol_filepath, 'w', encoding='utf-8') as f:\n",
    "        f.write(contract_code)\n",
    "    \n",
    "    # Add line numbers to the contract code for vulnerability mapping\n",
    "    lines = contract_code.split(\"\\n\")\n",
    "    numbered_lines = [f\"{i+1}: {line}\" for i, line in enumerate(lines)]\n",
    "    numbered_contract = \"\\n\".join(numbered_lines)\n",
    "    \n",
    "    print(f\"Extracting vulnerability for Record {idx} (vulnerable contract index: {vul_idx})...\")\n",
    "    generator = Generator()\n",
    "    # Use the 'completion' as the guideline for vulnerability extraction\n",
    "    generator.create_prompt(completion_text, numbered_contract)\n",
    "    start_time = time.time()\n",
    "    answer, _ = generator.generate()\n",
    "    print(f\"Vulnerability extraction for Record {idx} completed in {round(time.time() - start_time, 2)} seconds\")\n",
    "    \n",
    "    # Parse the answer as JSON and save the vulnerability details if extraction was successful.\n",
    "    try:\n",
    "        vulnerability_data = json.loads(answer)\n",
    "    except Exception as e:\n",
    "        print(f\"Error parsing vulnerability JSON for Record {idx}: {e}\")\n",
    "        continue\n",
    "    \n",
    "    json_filepath = os.path.join(locs_dir, f\"{vul_idx}.json\")\n",
    "    with open(json_filepath, \"w\", encoding=\"utf-8\") as json_file:\n",
    "        json.dump(vulnerability_data, json_file, indent=4)\n",
    "    print(f\"Saved vulnerability data for Record {idx} to {json_filepath}\")\n",
    "    \n",
    "    vul_idx += 1\n",
    "\n",
    "print(\"Process completed!\")"
   ]
  },
  {
   "cell_type": "code",
   "execution_count": null,
   "id": "88138188-b06a-4870-aeb8-d091b5a3da7d",
   "metadata": {},
   "outputs": [],
   "source": []
  }
 ],
 "metadata": {
  "kernelspec": {
   "display_name": "Python 3 (ipykernel)",
   "language": "python",
   "name": "python3"
  },
  "language_info": {
   "codemirror_mode": {
    "name": "ipython",
    "version": 3
   },
   "file_extension": ".py",
   "mimetype": "text/x-python",
   "name": "python",
   "nbconvert_exporter": "python",
   "pygments_lexer": "ipython3",
   "version": "3.9.20"
  }
 },
 "nbformat": 4,
 "nbformat_minor": 5
}
