{
 "cells": [
  {
   "cell_type": "code",
   "execution_count": 1,
   "id": "04527f2b-7e63-4bf1-80ef-ae40c7b11b35",
   "metadata": {},
   "outputs": [],
   "source": [
    "# import json\n",
    "# with open(\"dataset/source3_reentrancy.json\", \"r\",  encoding=\"utf-8\") as file:\n",
    "#     data = json.load(file)\n",
    "#list to save vulnerable lines of code:)\n",
    "# vulnerable_lines = []\n",
    "# Iterate through the JSON data\n",
    "# for entry in data:\n",
    "#     if entry[\"output\"].startswith(\"1\"):  # Detect vulnerability\n",
    "#         code_lines = entry[\"input\"].split(\"\\n\")  # Split code into lines\n",
    "#         vulnerable_lines.extend(code_lines)\n",
    "# Save extracted vulnerable code lines into a file with UTF-8 encoding\n",
    "#with open(\"vulnerable_code.txt\", \"w\", encoding=\"utf-8\") as outfile:\n",
    "#    outfile.write(\"\\n\".join(vulnerable_lines))\n",
    "# Display the extracted lines\n",
    "#for line in vulnerable_lines:\n",
    "#    print(line)"
   ]
  },
  {
   "cell_type": "code",
   "execution_count": 77,
   "id": "5213fab0-e45e-44c2-9258-d40c5a693abc",
   "metadata": {},
   "outputs": [],
   "source": [
    "# Keep this code:"
   ]
  },
  {
   "cell_type": "code",
   "execution_count": 10,
   "id": "c0b519ab-4d98-45a8-813e-43680b4da213",
   "metadata": {},
   "outputs": [],
   "source": [
    "############### saving as 1.sol, 2.sol,... and 1.csv, 2.csv,... ###################"
   ]
  },
  {
   "cell_type": "code",
   "execution_count": 87,
   "id": "b75a33bc-afb9-4d8f-9b9b-cb7c7ae88ffa",
   "metadata": {},
   "outputs": [],
   "source": [
    "import json\n",
    "import os\n",
    "import csv\n",
    "\n",
    "sol_folder = \"safe_smart_contracts/TD\" # change based on vul. type\n",
    "csv_folder = \"safe_metadata/TD\"\n",
    "os.makedirs(sol_folder, exist_ok=True)\n",
    "os.makedirs(csv_folder, exist_ok=True)"
   ]
  },
  {
   "cell_type": "code",
   "execution_count": 88,
   "id": "7f811583-c54b-4ddd-9568-627491452031",
   "metadata": {},
   "outputs": [],
   "source": [
    "# Load the JSON file with UTF-8 encoding to handle special characters\n",
    "with open(\"dataset/source3_timestamp.json\", \"r\", encoding=\"utf-8\") as file:\n",
    "    data = json.load(file)\n",
    "\n",
    "# Counter for contract numbering\n",
    "contract_counter = 1\n"
   ]
  },
  {
   "cell_type": "code",
   "execution_count": 89,
   "id": "6d1130ba-c6d8-4f26-b765-9860101cc5e7",
   "metadata": {},
   "outputs": [
    {
     "name": "stdout",
     "output_type": "stream",
     "text": [
      "Extracted 791 vulnerable smart contracts and their metadata.\n"
     ]
    }
   ],
   "source": [
    "# Iterate through the JSON data\n",
    "for entry in data:\n",
    "    if entry[\"output\"].startswith(\"0.\"):  # Detect vulnerability, allowing '1.' #   Decetect safe, allowing '0.'\n",
    "        code_lines = entry[\"input\"].split(\"\\n\")  # Split code into lines\n",
    "        \n",
    "        # Define filenames\n",
    "        sol_filename = os.path.join(sol_folder, f\"{contract_counter}.sol\")\n",
    "        csv_filename = os.path.join(csv_folder, f\"{contract_counter}.csv\")\n",
    "        \n",
    "        # Save the smart contract to a .sol file\n",
    "        with open(sol_filename, \"w\", encoding=\"utf-8\") as sol_file:\n",
    "            sol_file.write(\"\\n\".join(code_lines))\n",
    "        \n",
    "        # Determine metadata (start line and length)\n",
    "        start_line = 1  # Always starts from line 1 since the full contract is extracted\n",
    "        length = len(code_lines)\n",
    "        \n",
    "        # Save metadata to a CSV file\n",
    "        with open(csv_filename, \"w\", encoding=\"utf-8\", newline='') as csv_file:\n",
    "            writer = csv.writer(csv_file)\n",
    "            writer.writerow([\"Start Line\", \"Length\"])\n",
    "            writer.writerow([start_line, length])\n",
    "        # Increment contract counter\n",
    "        contract_counter += 1\n",
    "\n",
    "print(f\"Extracted {contract_counter - 1} vulnerable smart contracts and their metadata.\")\n",
    "\n",
    "            \n",
    "   "
   ]
  },
  {
   "cell_type": "code",
   "execution_count": 81,
   "id": "e2ea4017-1427-4d53-b9ff-6e41284af9bd",
   "metadata": {},
   "outputs": [],
   "source": [
    "#########3 modification of lines of code: #### no result \n",
    "#########:( we need to use GPT to find the number after \"line\" or find the line starting with the piece of code ###########################\n"
   ]
  },
  {
   "cell_type": "code",
   "execution_count": null,
   "id": "6af13bb8-a1ab-4850-a6da-3682aec78cd2",
   "metadata": {},
   "outputs": [],
   "source": [
    "#### write into a csv file "
   ]
  },
  {
   "cell_type": "code",
   "execution_count": null,
   "id": "9cd422b7-bd57-4be4-9c83-fa11a94f1111",
   "metadata": {},
   "outputs": [],
   "source": [
    "# keep this code:"
   ]
  },
  {
   "cell_type": "code",
   "execution_count": 4,
   "id": "eda41009-ab34-494b-969b-f75763b29eea",
   "metadata": {},
   "outputs": [
    {
     "name": "stdout",
     "output_type": "stream",
     "text": [
      "CSV file saved as dataset/LoC_smartbugs_reentrancy.csv\n"
     ]
    }
   ],
   "source": [
    "import re\n",
    "import csv\n",
    "import json\n",
    "\n",
    "# Define input and output file paths\n",
    "input_file_path = \"dataset/smartbugs_reentrancy.json\"  # Replace with your JSON file path\n",
    "csv_file_path = \"dataset/LoC_smartbugs_reentrancy.csv\"\n",
    "\n",
    "# Load the JSON file (assumes the file is a JSON array)\n",
    "with open(input_file_path, \"r\", encoding=\"utf-8\") as infile:\n",
    "    data = json.load(infile)\n",
    "\n",
    "# Prepare a list to hold the CSV rows\n",
    "csv_rows = []\n",
    "\n",
    "# Define a regex pattern to capture line numbers (e.g., \"line 162-177\" or \"line 123\")\n",
    "pattern = re.compile(r\"line\\s+(\\d+(?:-\\d+)?)\", re.IGNORECASE)\n",
    "\n",
    "# Iterate over each record in the JSON data using its index as the contract number (starting at 1)\n",
    "for contract_number, record in enumerate(data, start=1):\n",
    "    output_text = record.get(\"output\", \"\")\n",
    "    \n",
    "    # Find all matches of our pattern in the output text\n",
    "    matches = pattern.findall(output_text)\n",
    "    \n",
    "    # If matches are found, create a CSV row for each match using the JSON record's index as the contract number\n",
    "    if matches:\n",
    "        for match in matches:\n",
    "            csv_rows.append({\n",
    "                \"Contract Number\": contract_number,\n",
    "                \"Vulnerable Lines\": match\n",
    "            })\n",
    "\n",
    "# Write the results to a CSV file\n",
    "with open(csv_file_path, \"w\", newline=\"\", encoding=\"utf-8\") as csvfile:\n",
    "    fieldnames = [\"Contract Number\", \"Vulnerable Lines\"]\n",
    "    writer = csv.DictWriter(csvfile, fieldnames=fieldnames)\n",
    "    \n",
    "    writer.writeheader()\n",
    "    writer.writerows(csv_rows)\n",
    "\n",
    "print(f\"CSV file saved as {csv_file_path}\")\n"
   ]
  },
  {
   "cell_type": "code",
   "execution_count": null,
   "id": "2e42e9fc-eb53-4325-960e-5d04816c8a45",
   "metadata": {},
   "outputs": [],
   "source": [
    "########### go for LoC_source3_reentrancy.csv and others :D"
   ]
  },
  {
   "cell_type": "code",
   "execution_count": null,
   "id": "a81588f3-388a-4209-90ab-2752c222c6cd",
   "metadata": {},
   "outputs": [],
   "source": [
    "# keep this code "
   ]
  },
  {
   "cell_type": "code",
   "execution_count": 13,
   "id": "5485dbae-6a42-4c82-80bf-281e0be5cea2",
   "metadata": {},
   "outputs": [
    {
     "name": "stdout",
     "output_type": "stream",
     "text": [
      "CSV file saved as dataset/ESC_timestamp.csv\n"
     ]
    }
   ],
   "source": [
    "import re\n",
    "import csv\n",
    "import json\n",
    "\n",
    "# Define input and output file paths\n",
    "input_file_path = \"dataset/ESC_timestamp.json\"  # Replace with your JSON file path\n",
    "csv_file_path = \"dataset/ESC_timestamp.csv\"\n",
    "\n",
    "# Load the JSON file (assumes the file is a JSON array)\n",
    "with open(input_file_path, \"r\", encoding=\"utf-8\") as infile:\n",
    "    data = json.load(infile)\n",
    "\n",
    "# Prepare a list to hold the CSV rows\n",
    "csv_rows = []\n",
    "\n",
    "# Define a regex pattern to capture line numbers (e.g., \"line 162-177\" or \"line 123\")\n",
    "pattern = re.compile(r\"line\\s+(\\d+(?:-\\d+)?)\", re.IGNORECASE)\n",
    "\n",
    "# Initialize a counter for vulnerable records only\n",
    "vulnerable_counter = 1\n",
    "\n",
    "# Iterate over each record in the JSON data\n",
    "for record in data:\n",
    "    output_text = record.get(\"output\", \"\")\n",
    "    \n",
    "    # Find all matches of our pattern in the output text\n",
    "    matches = pattern.findall(output_text)\n",
    "    \n",
    "    # If matches are found, use the vulnerable counter as the contract number for this record\n",
    "    if matches:\n",
    "        for match in matches:\n",
    "            csv_rows.append({\n",
    "                \"Contract Number\": vulnerable_counter,\n",
    "                \"Vulnerable Lines\": match\n",
    "            })\n",
    "        # Increment the vulnerable counter after processing this vulnerable record\n",
    "        vulnerable_counter += 1\n",
    "\n",
    "# Write the results to a CSV file\n",
    "with open(csv_file_path, \"w\", newline=\"\", encoding=\"utf-8\") as csvfile:\n",
    "    fieldnames = [\"Contract Number\", \"Vulnerable Lines\"]\n",
    "    writer = csv.DictWriter(csvfile, fieldnames=fieldnames)\n",
    "    \n",
    "    writer.writeheader()\n",
    "    writer.writerows(csv_rows)\n",
    "\n",
    "print(f\"CSV file saved as {csv_file_path}\")\n"
   ]
  },
  {
   "cell_type": "code",
   "execution_count": null,
   "id": "b8505d54-7639-4a47-9825-43f84ed35224",
   "metadata": {},
   "outputs": [],
   "source": []
  },
  {
   "cell_type": "code",
   "execution_count": null,
   "id": "afe24c3d-852c-4d0a-945e-079abaf11b87",
   "metadata": {},
   "outputs": [],
   "source": []
  },
  {
   "cell_type": "code",
   "execution_count": null,
   "id": "3a86fe7f-e04e-4c19-9363-bd2dde3f03dc",
   "metadata": {},
   "outputs": [],
   "source": []
  },
  {
   "cell_type": "code",
   "execution_count": null,
   "id": "6c1aade2-6b6d-4bba-8797-d633fb5e8123",
   "metadata": {},
   "outputs": [],
   "source": []
  },
  {
   "cell_type": "code",
   "execution_count": null,
   "id": "f7b2c70b-bd46-4302-8223-9b8150876de5",
   "metadata": {},
   "outputs": [],
   "source": []
  },
  {
   "cell_type": "code",
   "execution_count": null,
   "id": "8d503311-a861-4af3-999f-36f605588ff6",
   "metadata": {},
   "outputs": [],
   "source": [
    "#### second dataset : Skip it !"
   ]
  },
  {
   "cell_type": "code",
   "execution_count": 82,
   "id": "2b8f1cd3-c35f-4f13-9f45-e636a5bb6e90",
   "metadata": {},
   "outputs": [],
   "source": [
    "# Define output folders\n",
    "sol_folder = \"second/vulnerable_smart_contracts/RE\"\n",
    "csv_folder = \"second/vulnerable_metadata/RE\"\n",
    "os.makedirs(sol_folder, exist_ok=True)\n",
    "os.makedirs(csv_folder, exist_ok=True)\n",
    "\n",
    "# Load the JSON file with UTF-8 encoding to handle special characters\n",
    "with open(\"dataset/source3_reentrancy.json\", \"r\", encoding=\"utf-8\") as file:\n",
    "    data = json.load(file)\n",
    "\n",
    "# Counter for contract numbering\n",
    "contract_counter = 1"
   ]
  },
  {
   "cell_type": "code",
   "execution_count": 83,
   "id": "ad464c33-f66d-45a5-8251-f5c4f3df11ae",
   "metadata": {},
   "outputs": [
    {
     "name": "stdout",
     "output_type": "stream",
     "text": [
      "Extracted 0 vulnerable smart contracts and their metadata.\n"
     ]
    }
   ],
   "source": [
    "# Iterate through the JSON data\n",
    "for entry in data:\n",
    "    if entry[\"output\"].startswith(\"1.\"):  # Detect vulnerability, allowing '1.'\n",
    "        code_lines = entry[\"input\"].split(\"\\n\")  # Split code into lines\n",
    "        \n",
    "        # Extract start and end line numbers from 'output' field using regex\n",
    "        match = re.search(r'Lines (\\d+)-(\\d+)', entry[\"output\"])\n",
    "        if match:\n",
    "            start_line = int(match.group(1))\n",
    "            end_line = int(match.group(2))\n",
    "            \n",
    "            # Extract the specific vulnerable lines\n",
    "            vulnerable_code = code_lines[start_line - 1:end_line]  # Adjusting for 0-based index\n",
    "            length = len(vulnerable_code)\n",
    "            \n",
    "            # Define filenames\n",
    "            sol_filename = os.path.join(sol_folder, f\"{contract_counter}.sol\")\n",
    "            csv_filename = os.path.join(csv_folder, f\"{contract_counter}.csv\")\n",
    "            \n",
    "            # Save the vulnerable code snippet to a .sol file\n",
    "            with open(sol_filename, \"w\", encoding=\"utf-8\") as sol_file:\n",
    "                sol_file.write(\"\\n\".join(vulnerable_code))\n",
    "            \n",
    "            # Save metadata (start line and length) to a CSV file\n",
    "            with open(csv_filename, \"w\", encoding=\"utf-8\", newline='') as csv_file:\n",
    "                writer = csv.writer(csv_file)\n",
    "                writer.writerow([\"Start Line\", \"Length\"])\n",
    "                writer.writerow([start_line, length])\n",
    "            \n",
    "            # Increment contract counter\n",
    "            contract_counter += 1\n",
    "\n",
    "print(f\"Extracted {contract_counter - 1} vulnerable smart contracts and their metadata.\")\n"
   ]
  },
  {
   "cell_type": "code",
   "execution_count": 67,
   "id": "e15a3a75-1e7e-468b-a5be-547cfca72f9a",
   "metadata": {},
   "outputs": [],
   "source": [
    "################ open dataset of TrustLLM #########################"
   ]
  },
  {
   "cell_type": "code",
   "execution_count": null,
   "id": "66cf843b-6013-4b96-8c90-7948345015e1",
   "metadata": {},
   "outputs": [],
   "source": [
    "\n"
   ]
  },
  {
   "cell_type": "code",
   "execution_count": 92,
   "id": "299e9605-b664-444e-bd32-55c6bb06a938",
   "metadata": {},
   "outputs": [
    {
     "name": "stdout",
     "output_type": "stream",
     "text": [
      "Done!\n"
     ]
    }
   ],
   "source": [
    "import os\n",
    "import pandas as pd\n",
    "import json\n",
    "\n",
    "# Define file paths\n",
    "input_file_path = \"dataset/dataset2_trustLLM/val_data_reason_public.jsonl\"\n",
    "output_file_path = \"TrustLLM_progress/validation/full_val_data_reason_public.json\"\n",
    "\n",
    "# Read the JSONL file\n",
    "with open(input_file_path, \"r\", encoding=\"utf-8\") as f:\n",
    "    data = [json.loads(line) for line in f]\n",
    "\n",
    "# Convert to DataFrame\n",
    "df = pd.DataFrame(data)\n",
    "\n",
    "# Ensure full column content is displayed (for debugging/printing purposes)\n",
    "pd.set_option(\"display.max_colwidth\", None)\n",
    "pd.set_option(\"display.max_rows\", None)\n",
    "\n",
    "# Overwrite the output file if it already exists\n",
    "if os.path.exists(output_file_path):\n",
    "    os.remove(output_file_path)\n",
    "\n",
    "# Save the DataFrame to a JSON file (this will create a new file)\n",
    "df.to_json(output_file_path, orient=\"records\", indent=4, force_ascii=False)\n",
    "print(\"Done!\")\n"
   ]
  },
  {
   "cell_type": "code",
   "execution_count": 93,
   "id": "1673e8a5-fa62-4b12-ba0a-2d9befc5def5",
   "metadata": {},
   "outputs": [],
   "source": [
    "############### shift back to smart_llama\n"
   ]
  },
  {
   "cell_type": "code",
   "execution_count": null,
   "id": "2555f02f-9367-4814-ae86-44b41addba69",
   "metadata": {},
   "outputs": [],
   "source": []
  }
 ],
 "metadata": {
  "kernelspec": {
   "display_name": "Python 3 (ipykernel)",
   "language": "python",
   "name": "python3"
  },
  "language_info": {
   "codemirror_mode": {
    "name": "ipython",
    "version": 3
   },
   "file_extension": ".py",
   "mimetype": "text/x-python",
   "name": "python",
   "nbconvert_exporter": "python",
   "pygments_lexer": "ipython3",
   "version": "3.12.7"
  }
 },
 "nbformat": 4,
 "nbformat_minor": 5
}
