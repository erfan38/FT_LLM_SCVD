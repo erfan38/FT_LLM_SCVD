{
 "cells": [
  {
   "cell_type": "code",
   "execution_count": 2,
   "id": "657b09a0-67cb-4c87-924b-0d7bbcfc16a7",
   "metadata": {},
   "outputs": [],
   "source": [
    "import json"
   ]
  },
  {
   "cell_type": "code",
   "execution_count": 6,
   "id": "abef1629-fa02-4e33-9424-625a3ff1d670",
   "metadata": {},
   "outputs": [],
   "source": [
    "with open(\"../../data/dataset/source3_reentrancy.json\", \"r\",  encoding=\"utf-8\") as file:\n",
    "    data = json.load(file)"
   ]
  },
  {
   "cell_type": "code",
   "execution_count": 7,
   "id": "b94610de-5ac1-4a3c-8d31-4e8d4415f80e",
   "metadata": {},
   "outputs": [
    {
     "data": {
      "text/plain": [
       "dict_keys(['instruction', 'input', 'output'])"
      ]
     },
     "execution_count": 7,
     "metadata": {},
     "output_type": "execute_result"
    }
   ],
   "source": [
    "data[0].keys()"
   ]
  },
  {
   "cell_type": "code",
   "execution_count": 8,
   "id": "109d8d36-84a8-4b9e-bf30-16f24f476e73",
   "metadata": {},
   "outputs": [],
   "source": [
    "for record in data:\n",
    "    contract = record['input']\n",
    "    lines = contract.split(\"\\n\")\n",
    "    numbered_lines = [f\"{i+1}: {line}\" for i, line in enumerate(lines)]\n",
    "    record['input'] = \"\\n\".join(numbered_lines)\n"
   ]
  },
  {
   "cell_type": "code",
   "execution_count": 10,
   "id": "8b27f2f4-5aa4-4c3f-b57a-b27b95b55043",
   "metadata": {},
   "outputs": [
    {
     "name": "stdout",
     "output_type": "stream",
     "text": [
      "1: contract ExampleFlashSwap is IUniswapV2Callee {\n",
      "2:     IUniswapV1Factory immutable factoryV1;\n",
      "3:     address immutable factory;\n",
      "4:     IWETH immutable WETH;\n",
      "5: \n",
      "6:     constructor(address _factory, address _factoryV1, address router) public {\n",
      "7:         factoryV1 = IUniswapV1Factory(_factoryV1);\n",
      "8:         factory = _factory;\n",
      "9:         WETH = IWETH(IUniswapV2Router01(router).WETH());\n",
      "10:     }\n",
      "11: \n",
      "12:     // needs to accept ETH from any V1 exchange and WETH. ideally this could be enforced, as in the router,\n",
      "13:     // but it's not possible because it requires a call to the v1 factory, which takes too much gas\n",
      "14:     receive() external payable {}\n",
      "15: \n",
      "16:     // gets tokens/WETH via a V2 flash swap, swaps for the ETH/tokens on V1, repays V2, and keeps the rest!\n",
      "17:     function uniswapV2Call(address sender, uint amount0, uint amount1, bytes calldata data) external override {\n",
      "18:         address[] memory path = new address[](2);\n",
      "19:         uint amountToken;\n",
      "20:         uint amountETH;\n",
      "21:         { // scope for token{0,1}, avoids stack too deep errors\n",
      "22:         address token0 = IUniswapV2Pair(msg.sender).token0();\n",
      "23:         address token1 = IUniswapV2Pair(msg.sender).token1();\n",
      "24:         assert(msg.sender == UniswapV2Library.pairFor(factory, token0, token1)); // ensure that msg.sender is actually a V2 pair\n",
      "25:         assert(amount0 == 0 || amount1 == 0); // this strategy is unidirectional\n",
      "26:         path[0] = amount0 == 0 ? token0 : token1;\n",
      "27:         path[1] = amount0 == 0 ? token1 : token0;\n",
      "28:         amountToken = token0 == address(WETH) ? amount1 : amount0;\n",
      "29:         amountETH = token0 == address(WETH) ? amount0 : amount1;\n",
      "30:         }\n",
      "31: \n",
      "32:         assert(path[0] == address(WETH) || path[1] == address(WETH)); // this strategy only works with a V2 WETH pair\n",
      "33:         IERC20 token = IERC20(path[0] == address(WETH) ? path[1] : path[0]);\n",
      "34:         IUniswapV1Exchange exchangeV1 = IUniswapV1Exchange(factoryV1.getExchange(address(token))); // get V1 exchange\n",
      "35: \n",
      "36:         if (amountToken > 0) {\n",
      "37:             (uint minETH) = abi.decode(data, (uint)); // slippage parameter for V1, passed in by caller\n",
      "38:             token.approve(address(exchangeV1), amountToken);\n",
      "39:             uint amountReceived = exchangeV1.tokenToEthSwapInput(amountToken, minETH, uint(-1));\n",
      "40:             uint amountRequired = UniswapV2Library.getAmountsIn(factory, amountToken, path)[0];\n",
      "41:             assert(amountReceived > amountRequired); // fail if we didn't get enough ETH back to repay our flash loan\n",
      "42:             WETH.deposit{value: amountRequired}();\n",
      "43:             assert(WETH.transfer(msg.sender, amountRequired)); // return WETH to V2 pair\n",
      "44:             (bool success,) = sender.call{value: amountReceived - amountRequired}(new bytes(0)); // keep the rest! (ETH)\n",
      "45:             assert(success);\n",
      "46:         } else {\n",
      "47:             (uint minTokens) = abi.decode(data, (uint)); // slippage parameter for V1, passed in by caller\n",
      "48:             WETH.withdraw(amountETH);\n",
      "49:             uint amountReceived = exchangeV1.ethToTokenSwapInput{value: amountETH}(minTokens, uint(-1));\n",
      "50:             uint amountRequired = UniswapV2Library.getAmountsIn(factory, amountETH, path)[0];\n",
      "51:             assert(amountReceived > amountRequired); // fail if we didn't get enough tokens back to repay our flash loan\n",
      "52:             assert(token.transfer(msg.sender, amountRequired)); // return tokens to V2 pair\n",
      "53:             assert(token.transfer(sender, amountReceived - amountRequired)); // keep the rest! (tokens)\n",
      "54:         }\n",
      "55:     }\n",
      "56: }\n",
      "57: \n"
     ]
    }
   ],
   "source": [
    "print(record['input'])"
   ]
  },
  {
   "cell_type": "code",
   "execution_count": null,
   "id": "35aea96e-a151-461b-a40d-c154ef65ba18",
   "metadata": {},
   "outputs": [],
   "source": []
  }
 ],
 "metadata": {
  "kernelspec": {
   "display_name": "Python 3 (ipykernel)",
   "language": "python",
   "name": "python3"
  },
  "language_info": {
   "codemirror_mode": {
    "name": "ipython",
    "version": 3
   },
   "file_extension": ".py",
   "mimetype": "text/x-python",
   "name": "python",
   "nbconvert_exporter": "python",
   "pygments_lexer": "ipython3",
   "version": "3.9.19"
  }
 },
 "nbformat": 4,
 "nbformat_minor": 5
}
