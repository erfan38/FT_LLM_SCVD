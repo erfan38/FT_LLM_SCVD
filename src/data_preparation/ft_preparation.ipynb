{
 "cells": [
  {
   "cell_type": "markdown",
   "id": "9e3b3fd1-6b91-49fe-a56f-702430506e15",
   "metadata": {},
   "source": [
    "## Timestamp Dependency vulnerability:"
   ]
  },
  {
   "cell_type": "code",
   "execution_count": 56,
   "id": "b8b928c1-9da2-4168-a58e-40df72c70b05",
   "metadata": {},
   "outputs": [
    {
     "data": {
      "text/plain": [
       "'TD_FTSmartAudit_datasets'"
      ]
     },
     "execution_count": 56,
     "metadata": {},
     "output_type": "execute_result"
    }
   ],
   "source": [
    "import os, json\n",
    "\n",
    "# Paths\n",
    "data_path = os.path.join(\"..\", \"..\", \"data\", \"processed_data\")\n",
    "instruction_path = os.path.join( \"generate_per_data\", \"documentation\", \"TD_instruction.txt\")\n",
    "\n",
    "# Load full instruction\n",
    "with open(instruction_path, \"r\") as f:\n",
    "    instruction_text = f.read()\n",
    "\n",
    "# Prepare the system prompt\n",
    "system_message = (\n",
    "    \"you are a cyber security expert that can detect vulnerable line numbers from the contract as well as vulnerableCode, \"\n",
    "    \"vulnerabilityReason, potentialSecurityRisk, and fixedCode based on the instruction. instruction:\\n\\n\" + instruction_text\n",
    ")\n",
    "\n",
    "# Load dataset folder\n",
    "dataset_names = os.listdir(data_path)\n",
    "# ds_name = dataset_names[0]  # You may want to loop over all datasets\n",
    "ds_name = \"TD_FTSmartAudit_datasets\"\n",
    "ds_path = os.path.join(data_path, ds_name)\n",
    "ds_name\n"
   ]
  },
  {
   "cell_type": "code",
   "execution_count": 57,
   "id": "fb4dfd65-4937-4b48-b18c-06caac491d80",
   "metadata": {},
   "outputs": [
    {
     "name": "stdout",
     "output_type": "stream",
     "text": [
      " Dataset with 5 entries saved to: ..\\..\\data\\processed_data\\TD_FTSmartAudit_datasets\\converted_dataset.jsonl\n"
     ]
    }
   ],
   "source": [
    "# Process files\n",
    "loc_names = os.listdir(os.path.join(ds_path, \"LOCs\"))\n",
    "record_names = [name[:-5] for name in loc_names]  # remove .json\n",
    "output_dataset = []\n",
    "\n",
    "for rec in record_names:\n",
    "    loc_path = os.path.join(ds_path, \"LOCs\", f\"{rec}.json\")\n",
    "    contract_path = os.path.join(ds_path, \"contracts\", f\"{rec}.sol\")\n",
    "\n",
    "    with open(loc_path, \"r\") as f:\n",
    "        assistant_answer = json.load(f)\n",
    "\n",
    "    with open(contract_path, \"r\") as f:\n",
    "        contract_code = f.read()\n",
    "\n",
    "    user_query = (\n",
    "        f\"{contract_code}\\n\\nfind all tiemstamp dependency vulnerabilities  and detect vulnerable line numbers from the contract \"\n",
    "        f\"as well as vulnerableCode, vulnerabilityReason, potentialSecurityRisk, and fixedCode based on the instruction.\"\n",
    "    )\n",
    "\n",
    "    example = {\n",
    "        \"messages\": [\n",
    "            {\"role\": \"system\", \"content\": system_message},\n",
    "            {\"role\": \"user\", \"content\": user_query},\n",
    "            {\"role\": \"assistant\", \"content\": json.dumps(assistant_answer, indent=4)}\n",
    "        ]\n",
    "    }\n",
    "\n",
    "    output_dataset.append(example)\n",
    "\n",
    "# Save to .jsonl\n",
    "output_path = os.path.join(ds_path, \"converted_dataset.jsonl\")\n",
    "with open(output_path, \"w\") as f:\n",
    "    for entry in output_dataset:\n",
    "        json.dump(entry, f)\n",
    "        f.write(\"\\n\")\n",
    "\n",
    "print(f\" Dataset with {len(output_dataset)} entries saved to: {output_path}\")\n"
   ]
  },
  {
   "cell_type": "markdown",
   "id": "6c16dbc4-bb2b-4e49-b9e2-9551e1d3b7e1",
   "metadata": {},
   "source": [
    "## Integeroverflow/underflow vulnerability:"
   ]
  },
  {
   "cell_type": "code",
   "execution_count": 65,
   "id": "50cf605b-b501-4c46-a20c-760018fe0056",
   "metadata": {},
   "outputs": [
    {
     "data": {
      "text/plain": [
       "'IoU_SolidiFi'"
      ]
     },
     "execution_count": 65,
     "metadata": {},
     "output_type": "execute_result"
    }
   ],
   "source": [
    "\n",
    "# Paths\n",
    "data_path = os.path.join(\"..\", \"..\", \"data\", \"processed_data\")\n",
    "instruction_path = os.path.join( \"generate_per_data\", \"documentation\", \"IoU_instruction.txt\")\n",
    "\n",
    "# Load full instruction\n",
    "with open(instruction_path, \"r\") as f:\n",
    "    instruction_text = f.read()\n",
    "\n",
    "# Prepare the system prompt\n",
    "system_message = (\n",
    "    \"you are a cyber security expert that can detect vulnerable line numbers from the contract as well as vulnerableCode, \"\n",
    "    \"vulnerabilityReason, potentialSecurityRisk, and fixedCode based on the instruction. instruction:\\n\\n\" + instruction_text\n",
    ")\n",
    "\n",
    "# Load dataset folder\n",
    "dataset_names = os.listdir(data_path)\n",
    "# ds_name = dataset_names[0]  # You may want to loop over all datasets\n",
    "ds_name = \"IoU_SolidiFi\"\n",
    "ds_path = os.path.join(data_path, ds_name)\n",
    "ds_name\n"
   ]
  },
  {
   "cell_type": "code",
   "execution_count": 66,
   "id": "3dd8ca13-0b42-485f-8a56-1a1083cc74f4",
   "metadata": {},
   "outputs": [
    {
     "name": "stdout",
     "output_type": "stream",
     "text": [
      " Dataset with 50 entries saved to: ..\\..\\data\\processed_data\\IoU_SolidiFi\\converted_dataset.jsonl\n"
     ]
    }
   ],
   "source": [
    "# Process files\n",
    "loc_names = os.listdir(os.path.join(ds_path, \"LOCs\"))\n",
    "record_names = [name[:-5] for name in loc_names]  # remove .json\n",
    "output_dataset = []\n",
    "\n",
    "for rec in record_names:\n",
    "    loc_path = os.path.join(ds_path, \"LOCs\", f\"{rec}.json\")\n",
    "    contract_path = os.path.join(ds_path, \"contracts\", f\"{rec}.sol\")\n",
    "\n",
    "    with open(loc_path, \"r\") as f:\n",
    "        assistant_answer = json.load(f)\n",
    "\n",
    "    with open(contract_path, \"r\", encoding=\"utf-8\") as f:\n",
    "        contract_code = f.read()\n",
    "\n",
    "    user_query = (\n",
    "        f\"{contract_code}\\n\\nfind all integeroverflow/underflow vulnerabilities and detect vulnerable line numbers from the contract \"\n",
    "        f\"as well as vulnerableCode, vulnerabilityReason, potentialSecurityRisk, and fixedCode based on the instruction.\"\n",
    "    )\n",
    "\n",
    "    example = {\n",
    "        \"messages\": [\n",
    "            {\"role\": \"system\", \"content\": system_message},\n",
    "            {\"role\": \"user\", \"content\": user_query},\n",
    "            {\"role\": \"assistant\", \"content\": json.dumps(assistant_answer, indent=4)}\n",
    "        ]\n",
    "    }\n",
    "\n",
    "    output_dataset.append(example)\n",
    "\n",
    "# Save to .jsonl\n",
    "output_path = os.path.join(ds_path, \"converted_dataset.jsonl\")\n",
    "with open(output_path, \"w\") as f:\n",
    "    for entry in output_dataset:\n",
    "        json.dump(entry, f)\n",
    "        f.write(\"\\n\")\n",
    "\n",
    "print(f\" Dataset with {len(output_dataset)} entries saved to: {output_path}\")\n"
   ]
  },
  {
   "cell_type": "markdown",
   "id": "f58c1064-8e0a-4197-bb80-8288eb6c7b34",
   "metadata": {},
   "source": [
    "## Reentrancy Vulnerability:"
   ]
  },
  {
   "cell_type": "code",
   "execution_count": 80,
   "id": "e173549d-9e8d-4dc8-94e5-a7af4fa3b9bf",
   "metadata": {},
   "outputs": [
    {
     "data": {
      "text/plain": [
       "'RE_full_source2_218'"
      ]
     },
     "execution_count": 80,
     "metadata": {},
     "output_type": "execute_result"
    }
   ],
   "source": [
    "\n",
    "# Paths\n",
    "data_path = os.path.join(\"..\", \"..\", \"data\", \"processed_data\")\n",
    "instruction_path = os.path.join( \"generate_per_data\", \"documentation\", \"RE_instruction.txt\")\n",
    "\n",
    "# Load full instruction\n",
    "with open(instruction_path, \"r\") as f:\n",
    "    instruction_text = f.read()\n",
    "\n",
    "# Prepare the system prompt\n",
    "system_message = (\n",
    "    \"you are a cyber security expert that can detect vulnerable line numbers from the contract as well as vulnerableCode, \"\n",
    "    \"vulnerabilityReason, potentialSecurityRisk, and fixedCode based on the instruction. instruction:\\n\\n\" + instruction_text\n",
    ")\n",
    "\n",
    "# Load dataset folder\n",
    "dataset_names = os.listdir(data_path)\n",
    "# ds_name = dataset_names[0]  # You may want to loop over all datasets\n",
    "ds_name = \"RE_full_source2_218\"\n",
    "ds_path = os.path.join(data_path, ds_name)\n",
    "ds_name\n"
   ]
  },
  {
   "cell_type": "code",
   "execution_count": 81,
   "id": "11dda88e-e43e-4184-9092-8c9f6ff905c3",
   "metadata": {},
   "outputs": [
    {
     "name": "stdout",
     "output_type": "stream",
     "text": [
      " Dataset with 64 entries saved to: ..\\..\\data\\processed_data\\RE_full_source2_218\\converted_dataset.jsonl\n"
     ]
    }
   ],
   "source": [
    "# Process files\n",
    "loc_names = os.listdir(os.path.join(ds_path, \"LOCs\"))\n",
    "record_names = [name[:-5] for name in loc_names]  # remove .json\n",
    "output_dataset = []\n",
    "\n",
    "for rec in record_names:\n",
    "    loc_path = os.path.join(ds_path, \"LOCs\", f\"{rec}.json\")\n",
    "    contract_path = os.path.join(ds_path, \"contracts\", f\"{rec}.sol\")\n",
    "\n",
    "    with open(loc_path, \"r\") as f:\n",
    "        assistant_answer = json.load(f)\n",
    "\n",
    "    with open(contract_path, \"r\", encoding=\"utf-8\") as f:\n",
    "        contract_code = f.read()\n",
    "\n",
    "    user_query = (\n",
    "        f\"{contract_code}\\n\\nfind all Reentrancy vulnerabilities and detect vulnerable line numbers from the contract \"\n",
    "        f\"as well as vulnerableCode, vulnerabilityReason, potentialSecurityRisk, and fixedCode based on the instruction.\"\n",
    "    )\n",
    "\n",
    "    example = {\n",
    "        \"messages\": [\n",
    "            {\"role\": \"system\", \"content\": system_message},\n",
    "            {\"role\": \"user\", \"content\": user_query},\n",
    "            {\"role\": \"assistant\", \"content\": json.dumps(assistant_answer, indent=4)}\n",
    "        ]\n",
    "    }\n",
    "\n",
    "    output_dataset.append(example)\n",
    "\n",
    "# Save to .jsonl\n",
    "output_path = os.path.join(ds_path, \"converted_dataset.jsonl\")\n",
    "with open(output_path, \"w\") as f:\n",
    "    for entry in output_dataset:\n",
    "        json.dump(entry, f)\n",
    "        f.write(\"\\n\")\n",
    "\n",
    "print(f\" Dataset with {len(output_dataset)} entries saved to: {output_path}\")\n"
   ]
  },
  {
   "cell_type": "markdown",
   "id": "0c55ffd2-1b6a-4d22-b432-e9d604b8975d",
   "metadata": {},
   "source": [
    "## Saving jsonl files into ft_dataset folder"
   ]
  },
  {
   "cell_type": "code",
   "execution_count": 84,
   "id": "f78c89b7-fab6-460c-baad-ef0c12a3e2ac",
   "metadata": {},
   "outputs": [
    {
     "name": "stdout",
     "output_type": "stream",
     "text": [
      "✅ Copied: ..\\..\\data\\processed_data\\IoU_FTSmartAudit_datasets\\converted_dataset.jsonl → ..\\..\\data\\processed_data\\ft_dataset\\IoU_FTSmartAudit_datasets.jsonl\n",
      "✅ Copied: ..\\..\\data\\processed_data\\IoU_SolidiFi\\converted_dataset.jsonl → ..\\..\\data\\processed_data\\ft_dataset\\IoU_SolidiFi.jsonl\n",
      "✅ Copied: ..\\..\\data\\processed_data\\IoU_source3\\converted_dataset.jsonl → ..\\..\\data\\processed_data\\ft_dataset\\IoU_source3.jsonl\n",
      "✅ Copied: ..\\..\\data\\processed_data\\RE_FTSmartAudit_datasets\\converted_dataset.jsonl → ..\\..\\data\\processed_data\\ft_dataset\\RE_FTSmartAudit_datasets.jsonl\n",
      "✅ Copied: ..\\..\\data\\processed_data\\RE_full_source2_218\\converted_dataset.jsonl → ..\\..\\data\\processed_data\\ft_dataset\\RE_full_source2_218.jsonl\n",
      "✅ Copied: ..\\..\\data\\processed_data\\RE_smartbugs\\converted_dataset.jsonl → ..\\..\\data\\processed_data\\ft_dataset\\RE_smartbugs.jsonl\n",
      "✅ Copied: ..\\..\\data\\processed_data\\RE_SolidiFi\\converted_dataset.jsonl → ..\\..\\data\\processed_data\\ft_dataset\\RE_SolidiFi.jsonl\n",
      "✅ Copied: ..\\..\\data\\processed_data\\RE_source3\\converted_dataset.jsonl → ..\\..\\data\\processed_data\\ft_dataset\\RE_source3.jsonl\n",
      " Skipped: No converted_dataset.jsonl in safe_smart_contracts\n",
      "✅ Copied: ..\\..\\data\\processed_data\\TD_ESC\\converted_dataset.jsonl → ..\\..\\data\\processed_data\\ft_dataset\\TD_ESC.jsonl\n",
      "✅ Copied: ..\\..\\data\\processed_data\\TD_FTSmartAudit_datasets\\converted_dataset.jsonl → ..\\..\\data\\processed_data\\ft_dataset\\TD_FTSmartAudit_datasets.jsonl\n",
      "✅ Copied: ..\\..\\data\\processed_data\\TD_SolidiFi\\converted_dataset.jsonl → ..\\..\\data\\processed_data\\ft_dataset\\TD_SolidiFi.jsonl\n",
      "✅ Copied: ..\\..\\data\\processed_data\\TD_source3\\converted_dataset.jsonl → ..\\..\\data\\processed_data\\ft_dataset\\TD_source3.jsonl\n",
      "\n",
      " All available datasets have been collected in: ..\\..\\data\\processed_data\\ft_dataset\n"
     ]
    }
   ],
   "source": [
    "import os\n",
    "import shutil\n",
    "\n",
    "# Define base paths\n",
    "processed_data_dir = os.path.join(\"..\", \"..\", \"data\", \"processed_data\")\n",
    "ft_dataset_dir = os.path.join(processed_data_dir, \"ft_dataset\")\n",
    "\n",
    "# Create ft_dataset folder if it doesn't exist\n",
    "os.makedirs(ft_dataset_dir, exist_ok=True)\n",
    "\n",
    "# Go through all subfolders in processed_data\n",
    "for folder_name in os.listdir(processed_data_dir):\n",
    "    folder_path = os.path.join(processed_data_dir, folder_name)\n",
    "    if os.path.isdir(folder_path) and folder_name != \"ft_dataset\":  # avoid copying from/to itself\n",
    "        converted_file_path = os.path.join(folder_path, \"converted_dataset.jsonl\")\n",
    "        if os.path.exists(converted_file_path):\n",
    "            new_file_name = f\"{folder_name}.jsonl\"\n",
    "            new_file_path = os.path.join(ft_dataset_dir, new_file_name)\n",
    "            shutil.copyfile(converted_file_path, new_file_path)\n",
    "            print(f\"✅ Copied: {converted_file_path} → {new_file_path}\")\n",
    "        else:\n",
    "            print(f\" Skipped: No converted_dataset.jsonl in {folder_name}\")\n",
    "\n",
    "print(f\"\\n All available datasets have been collected in: {ft_dataset_dir}\")\n"
   ]
  },
  {
   "cell_type": "code",
   "execution_count": null,
   "id": "976bf331-3aa5-4042-8e0b-94003703eb2e",
   "metadata": {},
   "outputs": [],
   "source": []
  }
 ],
 "metadata": {
  "kernelspec": {
   "display_name": "Python 3 (ipykernel)",
   "language": "python",
   "name": "python3"
  },
  "language_info": {
   "codemirror_mode": {
    "name": "ipython",
    "version": 3
   },
   "file_extension": ".py",
   "mimetype": "text/x-python",
   "name": "python",
   "nbconvert_exporter": "python",
   "pygments_lexer": "ipython3",
   "version": "3.9.20"
  }
 },
 "nbformat": 4,
 "nbformat_minor": 5
}
