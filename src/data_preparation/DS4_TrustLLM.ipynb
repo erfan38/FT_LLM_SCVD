{
 "cells": [
  {
   "cell_type": "code",
   "execution_count": 1,
   "id": "58044533-367a-4d08-af6b-1c44c08ee17e",
   "metadata": {},
   "outputs": [],
   "source": [
    "import json, openai\n",
    "import os, sys, re\n",
    "from openai import OpenAI\n",
    "from tqdm.notebook import tqdm\n",
    "import time\n",
    "project_root = os.path.abspath(os.path.join(os.getcwd(), '..', '..'))\n",
    "sys.path.append(project_root)\n",
    "from config.keys import OPENAI_API_KEY"
   ]
  },
  {
   "cell_type": "code",
   "execution_count": 25,
   "id": "724454be-fa58-45e3-86cb-228c9dc9e7d6",
   "metadata": {},
   "outputs": [],
   "source": [
    "class Generator:\n",
    "    def __init__(self):\n",
    "        self.client = OpenAI(api_key=OPENAI_API_KEY)\n",
    "        self.json_formatter = \"Return the response in RFC8259 compliant JSON according to the ResponseFormat schema with no other text.\"\n",
    "        self.message = [{\n",
    "            \"role\": \"system\",\n",
    "            \"content\": \"You are a cyber-security programmer that can detect line numbers from the contract based on the instruction.\"\n",
    "        }]\n",
    "        self.output_formatter = \"\"\"\n",
    "This should instruct the model to output exactly the vulnerability lines, ensuring it doesn't output extra lines or large ranges that contain unrelated code.\n",
    "\n",
    "Response Schema:\n",
    " [\n",
    "    {\n",
    "      \"start_line\": <exact_start_line_number>,\n",
    "      \"end_line\": <exact_end_line_number>,\n",
    "      \"code\": [\n",
    "        \"vulnerable line 1\",\n",
    "        \"vulnerable line 2\",\n",
    "        \"... (and so on)\"\n",
    "      ]\n",
    "    }\n",
    " ]\n",
    " \n",
    "** Do not use ```json or any other extra texts in the output. Include only the list of detected lines as the schema.\n",
    "\"\"\"\n",
    "        self.user_prefix = \"\"\"You are given a record from a dataset containing smart contract vulnerability analyses. Each record contains an \"id\", \"prompt\", and \"completion\". The \"prompt\" includes both the instructions and the smart contract code snippet, while the \"completion\" provides the vulnerability analysis.\n",
    "\n",
    "Your task is to extract the exact lines of code that are vulnerable from the smart contract code. If the contract is vulnerable, output the minimal range of lines (with exact start and end line numbers) and the code lines themselves in the JSON Response Schema format provided below. If the contract is safe, do not output any JSON (i.e. return an empty result).\n",
    "\n",
    "Instructions:\n",
    "- Extract the smart contract code from the prompt.\n",
    "- If the completion analysis indicates that the contract is vulnerable (i.e. it does not state that the contract is safe), locate the vulnerable lines of code precisely.\n",
    "- Do not include any extra commentary or unrelated code; only include the vulnerable lines.\n",
    "\"\"\"\n",
    "    def get_user_message(self, dataset_output, contract):\n",
    "        self.user_content = f\"\"\"\n",
    "{self.user_prefix}\n",
    "\n",
    "This is the helping document to find the lines of vulnerable codes.\n",
    "Guideline:\n",
    "{dataset_output}\n",
    "\n",
    "Smart contract code:\n",
    "{contract}\n",
    "\n",
    "Additional Note:\n",
    "- Only output the minimal range of code lines that are directly vulnerable.\n",
    "- Do not include any commentary or unrelated code.\n",
    "- Follow the JSON Response Schema exactly:\n",
    "---\n",
    "{self.output_formatter}\n",
    "\n",
    "###\n",
    "\"\"\"\n",
    "        self.user_message = {\"role\": \"user\", \"content\": self.user_content}\n",
    "    def create_prompt(self, dataset_output, contract):\n",
    "        self.get_user_message(dataset_output, contract)\n",
    "        self.message.append(self.user_message)\n",
    "        \n",
    "    def generate(self):\n",
    "        completion = self.client.chat.completions.create(\n",
    "          model=\"gpt-4o-mini\",\n",
    "          messages = self.message,\n",
    "          temperature=0.1,\n",
    "          max_tokens=3200,\n",
    "          top_p=1.,\n",
    "          frequency_penalty=0,\n",
    "          presence_penalty=0,\n",
    "          stop=None\n",
    "        )\n",
    "        answer = completion.choices[0].message.content\n",
    "        return answer, completion\n"
   ]
  },
  {
   "cell_type": "code",
   "execution_count": null,
   "id": "737d7028-b5e7-4fb4-9350-41a4af96f118",
   "metadata": {},
   "outputs": [],
   "source": []
  },
  {
   "cell_type": "code",
   "execution_count": 26,
   "id": "b43e2901-b2b4-4835-8c74-ff285316827d",
   "metadata": {},
   "outputs": [],
   "source": [
    "dataset_name = \"train_TrustLLM\"\n",
    "output_dir = os.path.join(\"..\", \"..\", \"data\", \"processed_data\", dataset_name)\n",
    "os.makedirs(output_dir, exist_ok=True)\n",
    "\n",
    "contracts_dir = os.path.join(output_dir, \"contracts\")\n",
    "os.makedirs(contracts_dir, exist_ok=True)\n",
    "\n",
    "locs_dir = os.path.join(output_dir, \"LOCs\")\n",
    "os.makedirs(locs_dir, exist_ok=True)\n",
    "\n",
    "raw_dir = os.path.join(\"..\", \"..\", \"data\", \"dataset\", \"raw\")\n",
    "dataset_path = os.path.join(raw_dir, f\"{dataset_name}.json\")\n",
    "\n",
    "if not os.path.exists(dataset_path):\n",
    "    raise FileNotFoundError(f\"Dataset file not found at: {dataset_path}\")"
   ]
  },
  {
   "cell_type": "code",
   "execution_count": 27,
   "id": "6d693dd8-c5e1-4ba6-ab18-ed71d17526e7",
   "metadata": {},
   "outputs": [
    {
     "name": "stdout",
     "output_type": "stream",
     "text": [
      "Total records: 20885\n"
     ]
    }
   ],
   "source": [
    "with open(dataset_path, \"r\", encoding=\"utf-8\") as file:\n",
    "    data = json.load(file)\n",
    "print(\"Total records:\", len(data))\n",
    "#print(data[1][\"completion\"])"
   ]
  },
  {
   "cell_type": "code",
   "execution_count": 28,
   "id": "e9d2518a-fc1e-408e-87ec-c7161747f179",
   "metadata": {},
   "outputs": [
    {
     "name": "stdout",
     "output_type": "stream",
     "text": [
      "There are duplicate record ids.\n"
     ]
    }
   ],
   "source": [
    "ids = [record.get(\"id\") for record in data]\n",
    "if len(ids) == len(set(ids)):\n",
    "    print(\"All record ids are unique.\")\n",
    "else:\n",
    "    print(\"There are duplicate record ids.\")"
   ]
  },
  {
   "cell_type": "code",
   "execution_count": 29,
   "id": "5b47f403-db89-45fd-99d5-fd471053b81f",
   "metadata": {},
   "outputs": [
    {
     "data": {
      "application/vnd.jupyter.widget-view+json": {
       "model_id": "64582cf3ec9b4da9ab83301bf3bd0f66",
       "version_major": 2,
       "version_minor": 0
      },
      "text/plain": [
       "Processing Records:   0%|          | 0/6 [00:00<?, ?it/s]"
      ]
     },
     "metadata": {},
     "output_type": "display_data"
    },
    {
     "name": "stdout",
     "output_type": "stream",
     "text": [
      "Record 0 is marked as safe. Skipping vulnerability extraction.\n",
      "Record 1 is marked as safe. Skipping vulnerability extraction.\n",
      "Record 2 is marked as safe. Skipping vulnerability extraction.\n",
      "Record 3 is marked as safe. Skipping vulnerability extraction.\n",
      "Record 4 is marked as safe. Skipping vulnerability extraction.\n",
      "Extracting vulnerability for Record 5 (vulnerable contract index: 0)...\n",
      "Vulnerability extraction for Record 5 completed in 1.6 seconds\n",
      "Saved vulnerability data for Record 5 to ../../data/processed_data/train_TrustLLM/LOCs/0.json\n",
      "Process completed!\n"
     ]
    }
   ],
   "source": [
    "end_contract = 6\n",
    "vul_idx = 0  # Counter for vulnerable smart contracts\n",
    "\n",
    "for idx, record in enumerate(tqdm(data[:end_contract], desc=\"Processing Records\")):\n",
    "    prompt_text = record.get(\"prompt\", \"\")\n",
    "    completion_text = record.get(\"completion\", \"\")\n",
    "    \n",
    "    # Extract smart contract code from the prompt.\n",
    "    # This regex now matches any code block enclosed in triple backticks regardless of the language tag.\n",
    "    code_match = re.search(r\"```[^\\n]*\\n(.*?)\\n```\", prompt_text, re.DOTALL)\n",
    "    if code_match:\n",
    "        contract_code = code_match.group(1).strip()\n",
    "    else:\n",
    "        print(f\"Record {idx}: No smart contract code found in prompt.\")\n",
    "        continue\n",
    "    \n",
    "    # Skip safe contracts\n",
    "    if \"appears to be safe\" in completion_text.lower():\n",
    "        print(f\"Record {idx} is marked as safe. Skipping vulnerability extraction.\")\n",
    "        continue\n",
    "    # Otherwise, if it does not mention \"the issue\", assume there is no clear vulnerability description.\n",
    "    if \"the issue\" not in completion_text.lower():\n",
    "        print(f\"Record {idx} does not clearly indicate a vulnerability. Skipping vulnerability extraction.\")\n",
    "        continue\n",
    "\n",
    "    # Save the vulnerable smart contract code to a .sol file using vul_idx for numbering\n",
    "    sol_filepath = os.path.join(contracts_dir, f\"{vul_idx}.sol\")\n",
    "    with open(sol_filepath, 'w', encoding='utf-8') as f:\n",
    "        f.write(contract_code)\n",
    "    \n",
    "    # Add line numbers to the contract code for vulnerability mapping\n",
    "    lines = contract_code.split(\"\\n\")\n",
    "    numbered_lines = [f\"{i+1}: {line}\" for i, line in enumerate(lines)]\n",
    "    numbered_contract = \"\\n\".join(numbered_lines)\n",
    "    \n",
    "    print(f\"Extracting vulnerability for Record {idx} (vulnerable contract index: {vul_idx})...\")\n",
    "    generator = Generator()\n",
    "    # Use the 'completion' as the guideline for vulnerability extraction\n",
    "    generator.create_prompt(completion_text, numbered_contract)\n",
    "    start_time = time.time()\n",
    "    answer, _ = generator.generate()\n",
    "    print(f\"Vulnerability extraction for Record {idx} completed in {round(time.time() - start_time, 2)} seconds\")\n",
    "    \n",
    "    # Parse the answer as JSON and save the vulnerability details if extraction was successful.\n",
    "    try:\n",
    "        vulnerability_data = json.loads(answer)\n",
    "    except Exception as e:\n",
    "        print(f\"Error parsing vulnerability JSON for Record {idx}: {e}\")\n",
    "        continue\n",
    "    \n",
    "    json_filepath = os.path.join(locs_dir, f\"{vul_idx}.json\")\n",
    "    with open(json_filepath, \"w\", encoding=\"utf-8\") as json_file:\n",
    "        json.dump(vulnerability_data, json_file, indent=4)\n",
    "    print(f\"Saved vulnerability data for Record {idx} to {json_filepath}\")\n",
    "    \n",
    "    vul_idx += 1\n",
    "\n",
    "print(\"Process completed!\")"
   ]
  },
  {
   "cell_type": "code",
   "execution_count": 36,
   "id": "88138188-b06a-4870-aeb8-d091b5a3da7d",
   "metadata": {},
   "outputs": [
    {
     "name": "stdout",
     "output_type": "stream",
     "text": [
      "\n",
      "You are given a record from a dataset containing smart contract vulnerability analyses. Each record contains an \"id\", \"prompt\", and \"completion\". The \"prompt\" includes both the instructions and the smart contract code snippet, while the \"completion\" provides the vulnerability analysis.\n",
      "\n",
      "Your task is to extract the exact lines of code that are vulnerable from the smart contract code. If the contract is vulnerable, output the minimal range of lines (with exact start and end line numbers) and the code lines themselves in the JSON Response Schema format provided below. If the contract is safe, do not output any JSON (i.e. return an empty result).\n",
      "\n",
      "Instructions:\n",
      "- Extract the smart contract code from the prompt.\n",
      "- If the completion analysis indicates that the contract is vulnerable (i.e. it does not state that the contract is safe), locate the vulnerable lines of code precisely.\n",
      "- Do not include any extra commentary or unrelated code; only include the vulnerable lines.\n",
      "\n",
      "\n",
      "This is the helping document to find the lines of vulnerable codes.\n",
      "Guideline:\n",
      "The issue in the `wrap` and `unwrap` functions is that they are using the assignment operator (`=`) instead of the equality operator (`==`) in the if statement to check the return value of the `ICERC20` functions. This means that the condition will always evaluate to true and the code will always revert.\n",
      "\n",
      "Here is the corrected code for the `wrap` function:\n",
      "\n",
      "```solidity\n",
      "function wrap(\n",
      "    uint256 amount,\n",
      "    address recipient\n",
      ") external onlyAlchemist returns (uint256) {\n",
      "    SafeERC20.safeTransferFrom(underlyingToken, msg.sender, address(this), amount);\n",
      "    SafeERC20.safeApprove(underlyingToken, token, amount);\n",
      "\n",
      "    uint256 startingBalance = IERC20(token).balanceOf(address(this));\n",
      "\n",
      "    uint256 error = ICERC20(token).mint(amount);\n",
      "    if (error != NO_ERROR) {\n",
      "        revert FuseError(error);\n",
      "    }\n",
      "\n",
      "    uint256 endingBalance = IERC20(token).balanceOf(address(this));\n",
      "    uint256 mintedAmount = endingBalance - startingBalance;\n",
      "\n",
      "    SafeERC20.safeTransfer(token, recipient, mintedAmount);\n",
      "\n",
      "    return mintedAmount;\n",
      "}\n",
      "```\n",
      "\n",
      "And here is the corrected code for the `unwrap` function:\n",
      "\n",
      "```solidity\n",
      "function unwrap(\n",
      "    uint256 amount,\n",
      "    address recipient\n",
      ") external lock onlyAlchemist returns (uint256) {\n",
      "    SafeERC20.safeTransferFrom(token, msg.sender, address(this), amount);\n",
      "\n",
      "    uint256 startingBalance = IERC20(underlyingToken).balanceOf(address(this));\n",
      "\n",
      "    uint256 error = ICERC20(token).redeem(amount);\n",
      "    if (error != NO_ERROR) {\n",
      "        revert FuseError(error);\n",
      "    }\n",
      "\n",
      "    uint256 endingBalance = IERC20(underlyingToken).balanceOf(address(this));\n",
      "    uint256 redeemedAmount = endingBalance - startingBalance;\n",
      "\n",
      "    SafeERC20.safeTransfer(underlyingToken, recipient, redeemedAmount);\n",
      "\n",
      "    return redeemedAmount;\n",
      "}\n",
      "```\n",
      "\n",
      "This issue could potentially lead to a denial-of-service (DoS) vulnerability, as the code will always revert and prevent any further execution. However, it is important to note that this issue can only be triggered by a developer mistake during code deployment or by an attacker with control over the contract deployment process. It is not a vulnerability that can be exploited by regular users of the contract.\n",
      "\n",
      "Smart contract code:\n",
      "1: function wrap( uint256 amount, address recipient ) external onlyAlchemist returns (uint256) { SafeERC20.safeTransferFrom(underlyingToken, msg.sender, address(this), amount); SafeERC20.safeApprove(underlyingToken, token, amount); uint256 startingBalance = IERC20(token).balanceOf(address(this)); uint256 error; if ((error = ICERC20(token).mint(amount)) != NO_ERROR) { revert FuseError(error); } uint256 endingBalance = IERC20(token).balanceOf(address(this)); uint256 mintedAmount = endingBalance - startingBalance; SafeERC20.safeTransfer(token, recipient, mintedAmount); return mintedAmount; }\n",
      "\n",
      "Additional Note:\n",
      "- Only output the minimal range of code lines that are directly vulnerable.\n",
      "- Do not include any commentary or unrelated code.\n",
      "- Follow the JSON Response Schema exactly:\n",
      "---\n",
      "\n",
      "This should instruct the model to output exactly the vulnerability lines, ensuring it doesn't output extra lines or large ranges that contain unrelated code.\n",
      "\n",
      "Response Schema:\n",
      " [\n",
      "    {\n",
      "      \"start_line\": <exact_start_line_number>,\n",
      "      \"end_line\": <exact_end_line_number>,\n",
      "      \"code\": [\n",
      "        \"vulnerable line 1\",\n",
      "        \"vulnerable line 2\",\n",
      "        \"... (and so on)\"\n",
      "      ]\n",
      "    }\n",
      " ]\n",
      " \n",
      "** Do not use ```json or any other extra texts in the output. Include only the list of detected lines as the schema.\n",
      "\n",
      "\n",
      "###\n",
      "\n"
     ]
    }
   ],
   "source": [
    "print(generator.message[1]['content'])"
   ]
  },
  {
   "cell_type": "code",
   "execution_count": 31,
   "id": "fd075aec-598c-4683-9477-98811750da8f",
   "metadata": {},
   "outputs": [
    {
     "name": "stdout",
     "output_type": "stream",
     "text": [
      "[\n",
      "    {\n",
      "        \"start_line\": 5,\n",
      "        \"end_line\": 5,\n",
      "        \"code\": [\n",
      "            \"if ((error = ICERC20(token).mint(amount)) != NO_ERROR) { revert FuseError(error); }\"\n",
      "        ]\n",
      "    }\n",
      "]\n"
     ]
    }
   ],
   "source": [
    "print(answer)"
   ]
  },
  {
   "cell_type": "code",
   "execution_count": 52,
   "id": "1ed9b134-9f89-4d2a-a40b-7cfb478fe6ee",
   "metadata": {},
   "outputs": [
    {
     "name": "stdout",
     "output_type": "stream",
     "text": [
      "function wrap( uint256 amount, address recipient ) external onlyAlchemist returns (uint256) { SafeERC20.safeTransferFrom(underlyingToken, msg.sender, address(this), amount); SafeERC20.safeApprove(underlyingToken, token, amount); uint256 startingBalance = IERC20(token).balanceOf(address(this)); uint256 error; if ((error = ICERC20(token).mint(amount)) != NO_ERROR) { revert FuseError(error); } uint256 endingBalance = IERC20(token).balanceOf(address(this)); uint256 mintedAmount = endingBalance - startingBalance; SafeERC20.safeTransfer(token, recipient, mintedAmount); return mintedAmount; }\n"
     ]
    }
   ],
   "source": [
    "text = \"Below is an instruction that describes a reasoning task.\\nCarefully assess the contributing factors and their interplay. Utilize the label name to form a coherent reasoning.\\n### Instruction:\\nPlease analyze the code function and its dependencies, including both incoming and outgoing calls. Considering the label name, identify the underlying cause.\\n### Input:\\nThe method FuseTokenAdapterV1 in the smart contract wrap\\n```Solidiy\\nfunction wrap( uint256 amount, address recipient ) external onlyAlchemist returns (uint256) { SafeERC20.safeTransferFrom(underlyingToken, msg.sender, address(this), amount); SafeERC20.safeApprove(underlyingToken, token, amount); uint256 startingBalance = IERC20(token).balanceOf(address(this)); uint256 error; if ((error = ICERC20(token).mint(amount)) != NO_ERROR) { revert FuseError(error); } uint256 endingBalance = IERC20(token).balanceOf(address(this)); uint256 mintedAmount = endingBalance - startingBalance; SafeERC20.safeTransfer(token, recipient, mintedAmount); return mintedAmount; }\\n```\\n## Dependency Overview:\\n### As a Caller:\\nFunctions called by FuseTokenAdapterV1:\\n```\\nSafeERC20.safeTransferFrom\\nFuseTokenAdapterV1.address\\nSafeERC20.safeApprove\\nFuseTokenAdapterV1.IERC20\\nFuseTokenAdapterV1.ICERC20\\nFuseTokenAdapterV1.FuseError\\nSafeERC20.safeTransfer\\nmodifier onlyAlchemist() { if (msg.sender != alchemist) { revert Unauthorized(\\\"Not alchemist\\\"); } _; }\\n```\\n### Response:\\nGiven that the code is labeled vulnerable, let's determine the reason by breaking down the process.\"\n",
    "# solidity_code = re.search(r'Solidiy(.*?)', text, re.DOTALL)\n",
    "\n",
    "import re\n",
    "\n",
    "# text = \"\"\"\n",
    "# ```solidity\n",
    "\n",
    "# some texts\n",
    "\n",
    "# ```solidity\n",
    "\n",
    "# The rest\n",
    "# \"\"\"\n",
    "\n",
    "# Regex pattern to match Solidity code blocks\n",
    "pattern = r\"```Solidiy\\n(.*?)\\n```\"\n",
    "\n",
    "matches = re.findall(pattern, text, re.DOTALL)\n",
    "\n",
    "# Print extracted Solidity code blocks\n",
    "for i, match in enumerate(matches, 1):\n",
    "    print(match)\n"
   ]
  },
  {
   "cell_type": "code",
   "execution_count": 54,
   "id": "49389e0a-56ee-46a8-af91-b5a5af1dcc2e",
   "metadata": {},
   "outputs": [
    {
     "name": "stdout",
     "output_type": "stream",
     "text": [
      "unction wrap( uint256 amount, address recipient ) external onlyAlchemist returns (uint256) { SafeERC20.safeTransferFrom(underlyingToken, msg.sender, address(this), amount); SafeERC20.safeApprove(underlyingToken, token, amount); uint256 startingBalance = IERC20(token).balanceOf(address(this)); uint256 error; if ((error = ICERC20(token).mint(amount)) != NO_ERROR) { revert FuseError(error); } uint256 endingBalance = IERC20(token).balanceOf(address(this)); uint256 mintedAmount = endingBalance - startingBalance; SafeERC20.safeTransfer(token, recipient, mintedAmount); return mintedAmount; }\n",
      "```\n",
      "## Dependency Overview:\n",
      "### As a Caller:\n",
      "Functions called by FuseTokenAdapterV1:\n",
      "```\n",
      "SafeERC20.safeTransferFrom\n",
      "FuseTokenAdapterV1.address\n",
      "SafeERC20.safeApprove\n",
      "FuseTokenAdapterV1.IERC20\n",
      "FuseTokenAdapterV1.ICERC20\n",
      "FuseTokenAdapterV1.FuseError\n",
      "SafeERC20.safeTransfer\n",
      "modifier onlyAlchemist() { if (msg.sender != alchemist) { revert Unauthorized(\"Not alchemist\"); } _; }\n",
      "\n"
     ]
    }
   ],
   "source": [
    "print('''unction wrap( uint256 amount, address recipient ) external onlyAlchemist returns (uint256) { SafeERC20.safeTransferFrom(underlyingToken, msg.sender, address(this), amount); SafeERC20.safeApprove(underlyingToken, token, amount); uint256 startingBalance = IERC20(token).balanceOf(address(this)); uint256 error; if ((error = ICERC20(token).mint(amount)) != NO_ERROR) { revert FuseError(error); } uint256 endingBalance = IERC20(token).balanceOf(address(this)); uint256 mintedAmount = endingBalance - startingBalance; SafeERC20.safeTransfer(token, recipient, mintedAmount); return mintedAmount; }\\n```\\n## Dependency Overview:\\n### As a Caller:\\nFunctions called by FuseTokenAdapterV1:\\n```\\nSafeERC20.safeTransferFrom\\nFuseTokenAdapterV1.address\\nSafeERC20.safeApprove\\nFuseTokenAdapterV1.IERC20\\nFuseTokenAdapterV1.ICERC20\\nFuseTokenAdapterV1.FuseError\\nSafeERC20.safeTransfer\\nmodifier onlyAlchemist() { if (msg.sender != alchemist) { revert Unauthorized(\\\"Not alchemist\\\"); } _; }\\n''')"
   ]
  },
  {
   "cell_type": "code",
   "execution_count": null,
   "id": "d1ac8837-18e9-426c-bf33-82a8577fcbc2",
   "metadata": {},
   "outputs": [],
   "source": []
  }
 ],
 "metadata": {
  "kernelspec": {
   "display_name": "Python 3 (ipykernel)",
   "language": "python",
   "name": "python3"
  },
  "language_info": {
   "codemirror_mode": {
    "name": "ipython",
    "version": 3
   },
   "file_extension": ".py",
   "mimetype": "text/x-python",
   "name": "python",
   "nbconvert_exporter": "python",
   "pygments_lexer": "ipython3",
   "version": "3.9.19"
  }
 },
 "nbformat": 4,
 "nbformat_minor": 5
}
