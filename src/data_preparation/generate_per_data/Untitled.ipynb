{
 "cells": [
  {
   "cell_type": "code",
   "execution_count": 2,
   "id": "482ca939-0a9d-4305-9804-6c3b7f2c7d92",
   "metadata": {},
   "outputs": [],
   "source": [
    "raw_fname = \"IoU_FTSmartAudit_datasets.json\""
   ]
  },
  {
   "cell_type": "code",
   "execution_count": 3,
   "id": "1010442e-7f31-4662-8766-72ca1d010797",
   "metadata": {},
   "outputs": [],
   "source": [
    "dataset = [\n",
    "    {\"dataset_name\":\"IoU_FTSmartAudit_datasets\", \n",
    "     \"vulnerability\": \"Integer overflow/underflow\"}\n",
    "    ]\n",
    "\n",
    "end_sample_num = 10"
   ]
  },
  {
   "cell_type": "code",
   "execution_count": 33,
   "id": "316ed0d7-efed-46d4-99f0-efd97166a9cf",
   "metadata": {},
   "outputs": [],
   "source": [
    "def read_json_files(fewshot_dir, loc_dir):\n",
    "    all_data = []\n",
    "    for filename in os.listdir(fewshot_dir):\n",
    "        if filename.endswith(\".json\"):\n",
    "            file_path = os.path.join(fewshot_dir, filename)\n",
    "            with open(file_path, 'r') as f:\n",
    "                data = json.load(f)\n",
    "            with open(os.path.join(loc_dir, filename), 'r') as f:\n",
    "                fewshot_helper = json.load(f)\n",
    "                # print(\"FEWSHOT HELPER\")\n",
    "                # print(fewshot_helper)\n",
    "            data.append({\"helper\": fewshot_helper})\n",
    "            # print(\"FS DATA\")\n",
    "            # print(data)\n",
    "            all_data.append(data)\n",
    "    return all_data\n",
    "def get_numbered_contract(contract):\n",
    "    lines = contract.split(\"\\n\")\n",
    "    numbered_lines = [f\"{i+1}: {line}\" for i, line in enumerate(lines)]\n",
    "    return \"\\n\".join(numbered_lines)"
   ]
  },
  {
   "cell_type": "code",
   "execution_count": 34,
   "id": "6d42083f-4b27-4788-82e6-3425bbbeed3d",
   "metadata": {},
   "outputs": [],
   "source": [
    "from pydantic import BaseModel, Field\n",
    "from typing import List\n",
    "\n",
    "class SingleVulnerability(BaseModel):\n",
    "    vulnerableLines: str\n",
    "    vulnerableCode: List[str]\n",
    "    vulnerabilityReason: str=Field(description='Why the code snippet is vulnerable') \n",
    "    potentialSecurityRisk: str=Field(description='The potential security risk the vulnerability may cause.') \n",
    "    fixedCode: str=Field(description='The healthy code snippet, not the way to fix ') \n",
    "\n",
    "class FullVulnerability(BaseModel):\n",
    "    vulnerabilities: List[SingleVulnerability]\n",
    "\n",
    "\n",
    "\n",
    "dataset_name = dataset[0][\"dataset_name\"]\n",
    "vulnerability =dataset[0][\"vulnerability\"]\n",
    "raw_fname = os.path.join(\"..\", \"..\", \"..\",\"data\", \"dataset\", \"raw\", dataset_name+\".json\")\n",
    "fewshot_dir = os.path.join(\"..\", \"..\", \"..\",\"data\", \"dataset\", \"few_shots\", dataset_name)\n",
    "processed_dir = os.path.join(\"..\", \"..\", \"..\",\"data\", \"dataset\", \"processed_data\", dataset_name)\n",
    "loc_dir = os.path.join(\"..\", \"..\", \"..\",\"data\", \"processed_data\", dataset_name, \"LOCs\")\n",
    "os.makedirs(loc_dir, exist_ok=True)\n",
    "loc_helper_dir = os.path.join(\"..\", \"..\", \"..\",\"data\", \"processed_data\", dataset_name, \"LOCs_old\")\n",
    "\n",
    "fewshot_data = read_json_files(fewshot_dir, loc_helper_dir)"
   ]
  },
  {
   "cell_type": "code",
   "execution_count": 35,
   "id": "0f3d8b84-7a43-44d6-ac2d-5c3c23eae5a9",
   "metadata": {},
   "outputs": [],
   "source": [
    "with open(raw_fname, 'r') as f:\n",
    "    raw_data = json.load(f)"
   ]
  },
  {
   "cell_type": "code",
   "execution_count": 38,
   "id": "54e4bbb9-8570-470b-a8eb-c02fb329b2dd",
   "metadata": {},
   "outputs": [
    {
     "name": "stdout",
     "output_type": "stream",
     "text": [
      "1: /*\n",
      "2:  * @source: https://github.com/sigp/solidity-security-blog\n",
      "3:  * @author: Steve Marx\n",
      "4:  * @vulnerable_at_lines: 20,22\n",
      "5:  */\n",
      "6: \n",
      "7:  pragma solidity ^0.4.18;\n",
      "8: \n",
      "9:  contract Token {\n",
      "10: \n",
      "11:    mapping(address => uint) balances;\n",
      "12:    uint public totalSupply;\n",
      "13: \n",
      "14:    function Token(uint _initialSupply) {\n",
      "15:      balances[msg.sender] = totalSupply = _initialSupply;\n",
      "16:    }\n",
      "17: \n",
      "18:    function transfer(address _to, uint _value) public returns (bool) {\n",
      "19:      // <yes> <report> ARITHMETIC\n",
      "20:      require(balances[msg.sender] - _value >= 0);\n",
      "21:      // <yes> <report> ARITHMETIC\n",
      "22:      balances[msg.sender] -= _value;\n",
      "23:      balances[_to] += _value;\n",
      "24:      return true;\n",
      "25:    }\n",
      "26: \n",
      "27:    function balanceOf(address _owner) public constant returns (uint balance) {\n",
      "28:      return balances[_owner];\n",
      "29:    }\n",
      "30:  }\n"
     ]
    }
   ],
   "source": [
    "print(get_numbered_contract(raw_data[0]['Source Code']))"
   ]
  },
  {
   "cell_type": "code",
   "execution_count": 39,
   "id": "f103fe4b-a171-4b82-ab2d-c6dbfaa957d9",
   "metadata": {},
   "outputs": [
    {
     "name": "stdout",
     "output_type": "stream",
     "text": [
      "1: pragma solidity ^0.4.18;\n",
      "2: \n",
      "3:  contract Token {\n",
      "4: \n",
      "5:    mapping(address => uint) balances;\n",
      "6:    uint public totalSupply;\n",
      "7: \n",
      "8:    function Token(uint _initialSupply) {\n",
      "9:      balances[msg.sender] = totalSupply = _initialSupply;\n",
      "10:    }\n",
      "11: \n",
      "12:    function transfer(address _to, uint _value) public returns (bool) {\n",
      "13:      \n",
      "14:      require(balances[msg.sender] - _value >= 0);\n",
      "15:      \n",
      "16:      balances[msg.sender] -= _value;\n",
      "17:      balances[_to] += _value;\n",
      "18:      return true;\n",
      "19:    }\n",
      "20: \n",
      "21:    function balanceOf(address _owner) public constant returns (uint balance) {\n",
      "22:      return balances[_owner];\n",
      "23:    }\n",
      "24:  }\n"
     ]
    }
   ],
   "source": [
    "print(get_numbered_contract(raw_data[0]['input']))"
   ]
  },
  {
   "cell_type": "code",
   "execution_count": null,
   "id": "acc884bf-3fa8-4d20-af68-6325f51581bd",
   "metadata": {},
   "outputs": [],
   "source": []
  }
 ],
 "metadata": {
  "kernelspec": {
   "display_name": "Python 3 (ipykernel)",
   "language": "python",
   "name": "python3"
  },
  "language_info": {
   "codemirror_mode": {
    "name": "ipython",
    "version": 3
   },
   "file_extension": ".py",
   "mimetype": "text/x-python",
   "name": "python",
   "nbconvert_exporter": "python",
   "pygments_lexer": "ipython3",
   "version": "3.9.19"
  }
 },
 "nbformat": 4,
 "nbformat_minor": 5
}
