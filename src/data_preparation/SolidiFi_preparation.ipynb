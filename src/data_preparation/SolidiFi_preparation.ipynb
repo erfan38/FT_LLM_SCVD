{
 "cells": [
  {
   "cell_type": "code",
   "execution_count": 20,
   "id": "36d3df3b-675e-4f2f-b895-5b6eebdccb7a",
   "metadata": {},
   "outputs": [],
   "source": [
    "import os\n",
    "import json\n",
    "\n",
    "vul = \"RE\"\n",
    "dir_vul = f\"../../data/processed_data/{vul}_SolidiFi\"\n",
    "dir_contract = os.path.join(dir_vul, \"contracts\")\n",
    "dir_LOCs = os.path.join(dir_vul, \"LOCs\")\n",
    "\n",
    "for i in range(1, 51):\n",
    "    LOCs_path = os.path.join(dir_LOCs, f\"{i}.json\")\n",
    "    contract_path = os.path.join(dir_contract, f\"{i}.sol\")\n",
    "\n",
    "    # Read all lines from the Solidity contract\n",
    "    with open(contract_path, \"r\") as f:\n",
    "        contract_lines = f.readlines()\n",
    "\n",
    "    # Read JSON list of dictionaries\n",
    "    with open(LOCs_path, \"r\") as f:\n",
    "        data = json.load(f)\n",
    "\n",
    "    # Process each dictionary entry\n",
    "    for entry in data:\n",
    "        line_range = entry.get(\"vulnerableLines\", \"\")\n",
    "        vulnerable_code = []\n",
    "\n",
    "        if line_range:\n",
    "            # Support multiple ranges separated by commas (e.g., \"6-8,10-12\")\n",
    "            ranges = line_range.split(\",\")\n",
    "            for r in ranges:\n",
    "                if \"-\" in r:\n",
    "                    start, end = map(int, r.strip().split(\"-\"))\n",
    "                else:\n",
    "                    start = end = int(r.strip())\n",
    "\n",
    "                # Keep original spacing, just convert tabs to 4 spaces\n",
    "                vulnerable_code.extend([\n",
    "                    line.rstrip(\"\\n\").replace('\\t', '    ') for line in contract_lines[start - 1:end]\n",
    "                ])\n",
    "\n",
    "        # Add the processed vulnerable code to the dictionary\n",
    "        entry[\"vulnerableCode\"] = vulnerable_code\n",
    "\n",
    "    # Save updated JSON\n",
    "    with open(LOCs_path, \"w\") as f:\n",
    "        json.dump(data, f, indent=4)\n"
   ]
  },
  {
   "cell_type": "code",
   "execution_count": null,
   "id": "1b3c0cbe-d207-417d-9935-add90635d0a9",
   "metadata": {},
   "outputs": [],
   "source": []
  }
 ],
 "metadata": {
  "kernelspec": {
   "display_name": "Python 3 (ipykernel)",
   "language": "python",
   "name": "python3"
  },
  "language_info": {
   "codemirror_mode": {
    "name": "ipython",
    "version": 3
   },
   "file_extension": ".py",
   "mimetype": "text/x-python",
   "name": "python",
   "nbconvert_exporter": "python",
   "pygments_lexer": "ipython3",
   "version": "3.9.20"
  }
 },
 "nbformat": 4,
 "nbformat_minor": 5
}
