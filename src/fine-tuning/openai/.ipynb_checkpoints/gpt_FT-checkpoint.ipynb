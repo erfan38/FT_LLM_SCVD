{
 "cells": [
  {
   "cell_type": "code",
   "execution_count": 11,
   "id": "5b888771-ed56-4ac0-b114-24d123e0cea0",
   "metadata": {},
   "outputs": [],
   "source": [
    "import openai\n",
    "import json\n",
    "import random"
   ]
  },
  {
   "cell_type": "code",
   "execution_count": 12,
   "id": "9cd407a5-ce9b-46d4-b67a-32d1581f052a",
   "metadata": {},
   "outputs": [],
   "source": [
    "api_key = \"\""
   ]
  },
  {
   "cell_type": "code",
   "execution_count": 13,
   "id": "7c834241-86c5-49ce-967a-06c021e8f882",
   "metadata": {},
   "outputs": [],
   "source": [
    "def alpaca_to_gpt(alpaca_dict):\n",
    "    instruction = alpaca_dict.get(\"instruction\", \"\").strip()\n",
    "    input_content = alpaca_dict.get(\"input\", \"\").strip()\n",
    "    output = alpaca_dict.get(\"output\", \"\").strip()\n",
    "\n",
    "    messages = []\n",
    "    if instruction:\n",
    "        messages.append({\"role\": \"system\", \"content\": instruction})\n",
    "    if input_content:\n",
    "        messages.append({\"role\": \"user\", \"content\": input_content})\n",
    "    if output:\n",
    "        messages.append({\"role\": \"assistant\", \"content\": output})\n",
    "    \n",
    "    return {\"messages\": messages}\n",
    "\n",
    "\n",
    "\n",
    "\n",
    "with open(\"alpaca_train_data.json\", \"r\", encoding=\"utf-8\") as f:\n",
    "    alpaca_train_data = json.load(f)\n",
    "    gpt_train_data = [alpaca_to_gpt(data) for data in alpaca_train_data]\n",
    "    \n",
    "with open(\"alpaca_valid_data.json\", \"r\", encoding=\"utf-8\") as f:\n",
    "    alpaca_valid_data = json.load(f)\n",
    "    gpt_valid_data = [alpaca_to_gpt(data) for data in alpaca_valid_data]\n",
    "    \n",
    "with open(\"alpaca_test_data.json\", \"r\", encoding=\"utf-8\") as f:\n",
    "    alpaca_test_data = json.load(f)\n",
    "    gpt_test_data = [alpaca_to_gpt(data) for data in alpaca_test_data]\n",
    "    \n",
    "\n"
   ]
  },
  {
   "cell_type": "code",
   "execution_count": null,
   "id": "4b21b264-53a1-4084-8db9-8ed85e040dfb",
   "metadata": {},
   "outputs": [],
   "source": []
  },
  {
   "cell_type": "code",
   "execution_count": 14,
   "id": "df9be141-d64c-4d73-ac3e-b6282f9c6a69",
   "metadata": {},
   "outputs": [
    {
     "name": "stdout",
     "output_type": "stream",
     "text": [
      "train: 949, valid: 126, test: 191\n"
     ]
    }
   ],
   "source": [
    "\n",
    "\n",
    "with open(\"oai_train_data.jsonl\", \"w\", encoding=\"utf-8\") as f:\n",
    "    json.dump(gpt_train_data, f, ensure_ascii=False, indent=2)\n",
    "\n",
    "with open(\"oai_valid_data.jsonl\", \"w\", encoding=\"utf-8\") as f:\n",
    "    json.dump(gpt_valid_data, f, ensure_ascii=False, indent=2)\n",
    "\n",
    "with open(\"oai_test_data.jsonl\", \"w\", encoding=\"utf-8\") as f:\n",
    "    json.dump(gpt_test_data, f, ensure_ascii=False, indent=2)\n",
    "\n",
    "print(f\"train: {len(gpt_train_data)}, valid: {len(gpt_valid_data)}, test: {len(gpt_test_data)}\")"
   ]
  },
  {
   "cell_type": "code",
   "execution_count": 32,
   "id": "37ffec18-d493-4722-aafe-d56f57c21af8",
   "metadata": {},
   "outputs": [
    {
     "name": "stdout",
     "output_type": "stream",
     "text": [
      "Converted to JSONL and saved to oai_train_data1.jsonl\n",
      "Converted to JSONL and saved to oai_valid_data1.jsonl\n"
     ]
    }
   ],
   "source": [
    "import json\n",
    "\n",
    "def convert_pretty_json_to_jsonl(pretty_json_path, output_jsonl_path):\n",
    "    with open(pretty_json_path, \"r\", encoding=\"utf-8\") as infile:\n",
    "        data = json.load(infile)  # Load the entire JSON array\n",
    "\n",
    "    with open(output_jsonl_path, \"w\", encoding=\"utf-8\") as outfile:\n",
    "        for obj in data:\n",
    "            json_line = json.dumps(obj)\n",
    "            outfile.write(json_line + \"\\n\")\n",
    "\n",
    "    print(f\"Converted to JSONL and saved to {output_jsonl_path}\")\n",
    "convert_pretty_json_to_jsonl('oai_train_data.jsonl', 'oai_train_data1.jsonl')\n",
    "convert_pretty_json_to_jsonl('oai_valid_data.jsonl', 'oai_valid_data1.jsonl')"
   ]
  },
  {
   "cell_type": "code",
   "execution_count": 34,
   "id": "ed8fb6bd-4931-4262-ba3f-238e1e5bcf92",
   "metadata": {},
   "outputs": [
    {
     "name": "stdout",
     "output_type": "stream",
     "text": [
      "✅ All lines are valid.\n",
      "✅ All lines are valid.\n"
     ]
    }
   ],
   "source": [
    "import json\n",
    "\n",
    "def validate_openai_chat_jsonl(filepath):\n",
    "    errors = []\n",
    "    valid_roles = {\"system\", \"user\", \"assistant\"}\n",
    "\n",
    "    with open(filepath, \"r\", encoding=\"utf-8\") as f:\n",
    "        for line_num, line in enumerate(f, start=1):\n",
    "            try:\n",
    "                # Try to parse the line as JSON\n",
    "                obj = json.loads(line)\n",
    "            except json.JSONDecodeError as e:\n",
    "                errors.append(f\"Line {line_num}: Invalid JSON - {e}\")\n",
    "                continue\n",
    "\n",
    "            # Check for 'messages' key\n",
    "            if \"messages\" not in obj:\n",
    "                errors.append(f\"Line {line_num}: Missing 'messages' key.\")\n",
    "                continue\n",
    "\n",
    "            messages = obj[\"messages\"]\n",
    "\n",
    "            if not isinstance(messages, list):\n",
    "                errors.append(f\"Line {line_num}: 'messages' should be a list.\")\n",
    "                continue\n",
    "\n",
    "            for i, msg in enumerate(messages):\n",
    "                if not isinstance(msg, dict):\n",
    "                    errors.append(f\"Line {line_num}, message {i+1}: Message is not a dict.\")\n",
    "                    continue\n",
    "                if \"role\" not in msg:\n",
    "                    errors.append(f\"Line {line_num}, message {i+1}: Missing 'role'.\")\n",
    "                elif msg[\"role\"] not in valid_roles:\n",
    "                    errors.append(f\"Line {line_num}, message {i+1}: Invalid role '{msg['role']}'.\")\n",
    "                if \"content\" not in msg:\n",
    "                    errors.append(f\"Line {line_num}, message {i+1}: Missing 'content'.\")\n",
    "                elif not isinstance(msg[\"content\"], str) or not msg[\"content\"].strip():\n",
    "                    errors.append(f\"Line {line_num}, message {i+1}: 'content' must be a non-empty string.\")\n",
    "\n",
    "    return errors if errors else \"✅ All lines are valid.\"\n",
    "\n",
    "result = validate_openai_chat_jsonl(\"oai_train_data1.jsonl\")\n",
    "print(result)\n",
    "\n",
    "result = validate_openai_chat_jsonl(\"oai_valid_data1.jsonl\")\n",
    "print(result)\n"
   ]
  },
  {
   "cell_type": "code",
   "execution_count": 29,
   "id": "b2d614dd-0ddc-4bb4-9065-4394e88f1c54",
   "metadata": {},
   "outputs": [
    {
     "name": "stdout",
     "output_type": "stream",
     "text": [
      "Uploaded File ID: file-1UazESknwdHCdJatYYZJpW\n"
     ]
    }
   ],
   "source": [
    "import os\n",
    "from openai import OpenAI\n",
    "\n",
    "client = OpenAI(api_key=api_key)\n",
    "\n",
    "with open(\"oai_train_data1.jsonl\", \"rb\") as f:\n",
    "    file = client.files.create(file=f, purpose=\"fine-tune\")\n",
    "\n",
    "file_id = file.id\n",
    "print(f\"Uploaded File ID: {file_id}\")\n"
   ]
  },
  {
   "cell_type": "code",
   "execution_count": 35,
   "id": "1c6b17eb-4fd8-44c0-bd70-f9310acd81ec",
   "metadata": {},
   "outputs": [
    {
     "name": "stdout",
     "output_type": "stream",
     "text": [
      "Uploaded File ID: file-VMvsbXQeDCQN5yKF6xEh5j\n"
     ]
    }
   ],
   "source": [
    "client = OpenAI(api_key=api_key)\n",
    "\n",
    "with open(\"oai_valid_data1.jsonl\", \"rb\") as f:\n",
    "    file = client.files.create(file=f, purpose=\"fine-tune\")\n",
    "\n",
    "file_id = file.id\n",
    "print(f\"Uploaded File ID: {file_id}\")\n"
   ]
  },
  {
   "cell_type": "code",
   "execution_count": 54,
   "id": "7d629f28-806a-4132-a817-f37de5657da3",
   "metadata": {},
   "outputs": [
    {
     "name": "stdout",
     "output_type": "stream",
     "text": [
      "Job ID: ftjob-f7ObGrkv3sAziHeJP2wVW5hI\n",
      "Status: validating_files\n"
     ]
    }
   ],
   "source": [
    "\n",
    "\n",
    "client = OpenAI(api_key=api_key)\n",
    "\n",
    "response = client.fine_tuning.jobs.create(\n",
    "    model=\"gpt-4o-mini-2024-07-18\",\n",
    "    training_file=\"file-1UazESknwdHCdJatYYZJpW\", \n",
    "    validation_file=\"file-VMvsbXQeDCQN5yKF6xEh5j\",\n",
    "    suffix=\"smart-4o-mini\"\n",
    ")\n",
    "\n",
    "print(f\"Job ID: {response.id}\")\n",
    "print(f\"Status: {response.status}\")\n",
    "# Job ID: ftjob-f7ObGrkv3sAziHeJP2wVW5hI\n",
    "# Status: validating_files"
   ]
  },
  {
   "cell_type": "code",
   "execution_count": null,
   "id": "f0fac5b8-ce5e-419c-a01e-8c58cd3c7901",
   "metadata": {},
   "outputs": [],
   "source": [
    "# Job ID: ftjob-f7ObGrkv3sAziHeJP2wVW5hI\n",
    "# Status: validating_files\n",
    "\n",
    "response = client.fine_tuning.jobs.list()\n",
    "for job in response.data:\n",
    "    print(job.id, job.status)\n"
   ]
  },
  {
   "cell_type": "code",
   "execution_count": 55,
   "id": "5de1f30f-d1b6-44b8-b04b-ec01386d0d4f",
   "metadata": {},
   "outputs": [
    {
     "name": "stdout",
     "output_type": "stream",
     "text": [
      "gpt-4o-mini-audio-preview\n",
      "gpt-4o-mini-realtime-preview\n",
      "gpt-4o-mini-realtime-preview-2024-12-17\n",
      "gpt-4o-mini-search-preview\n",
      "gpt-4o-mini-search-preview-2025-03-11\n",
      "gpt-4o-mini-tts\n",
      "gpt-4o-mini-2024-07-18\n",
      "gpt-4o-mini\n",
      "gpt-4o-mini-audio-preview-2024-12-17\n",
      "gpt-4o-mini-transcribe\n"
     ]
    }
   ],
   "source": [
    "for model in client.models.list():\n",
    "    if model.id.startswith(\"gpt-4o-mini\"):\n",
    "        print(model.id)"
   ]
  },
  {
   "cell_type": "code",
   "execution_count": null,
   "id": "144be015-4285-4a09-9fde-93c393884c24",
   "metadata": {},
   "outputs": [],
   "source": []
  }
 ],
 "metadata": {
  "kernelspec": {
   "display_name": "Python 3 (ipykernel)",
   "language": "python",
   "name": "python3"
  },
  "language_info": {
   "codemirror_mode": {
    "name": "ipython",
    "version": 3
   },
   "file_extension": ".py",
   "mimetype": "text/x-python",
   "name": "python",
   "nbconvert_exporter": "python",
   "pygments_lexer": "ipython3",
   "version": "3.9.20"
  }
 },
 "nbformat": 4,
 "nbformat_minor": 5
}
