{
 "cells": [
  {
   "cell_type": "code",
   "execution_count": 1,
   "id": "1af7ad59-53b9-40b0-9cb9-5d5590191e6b",
   "metadata": {},
   "outputs": [
    {
     "data": {
      "text/plain": [
       "'C:\\\\Users\\\\erfan\\\\Downloads\\\\plugin\\\\plugin\\\\smart-contract-vulnerability-detection\\\\test_contracts'"
      ]
     },
     "execution_count": 1,
     "metadata": {},
     "output_type": "execute_result"
    }
   ],
   "source": [
    "pwd"
   ]
  },
  {
   "cell_type": "code",
   "execution_count": 2,
   "id": "1155c64f-ac70-4965-8643-7f187e05012f",
   "metadata": {},
   "outputs": [],
   "source": [
    "import json, os, re"
   ]
  },
  {
   "cell_type": "code",
   "execution_count": 8,
   "id": "b212b05a-832e-4025-9705-693e8b9c42f4",
   "metadata": {},
   "outputs": [],
   "source": [
    "a = [{\n",
    "        \"vulnerableLines\": \"1-6\",\n",
    "        \"vulnerabilityReason\": \"The function does not properly protect itself from reentrancy exploits. Additionally, it does not properly check for integer underflow on redeemableEther_39[msg.sender] balance.\",\n",
    "        \"potentialSecurityRisk\": \"Reentrancy attacks can enable an attacker to drain the contract of its ether. While underflow can turn a negative balance into a large positive balance due to uint properties.\",\n",
    "        \"fixedCode\": \"mapping(address => uint) redeemableEther_39; bool private _reentrancyLock = false; modifier reentrancyGuard() { require(!_reentrancyLock, 'Reentrant call'); _reentrancyLock = true; _; _reentrancyLock = false; } function claimReward_39() public reentrancyGuard { require(redeemableEther_39[msg.sender] > 0); uint transferValue_39 = redeemableEther_39[msg.sender]; redeemableEther_39[msg.sender] = 0; msg.sender.transfer(transferValue_39); }\"\n",
    "    }\n",
    "]"
   ]
  },
  {
   "cell_type": "code",
   "execution_count": 33,
   "id": "d74c2c4d-5556-4138-8353-e5e4744d82bf",
   "metadata": {},
   "outputs": [
    {
     "name": "stdout",
     "output_type": "stream",
     "text": [
      "The function does not properly protect itself from reentrancy exploits. Additionally, it does not properly check for integer underflow on redeemableEther_39[msg.sender] balance.\n"
     ]
    }
   ],
   "source": [
    "predict = a[0]['vulnerabilityReason']\n",
    "print(predict)"
   ]
  },
  {
   "cell_type": "code",
   "execution_count": 34,
   "id": "e3793515-0995-46ce-9dc1-1aa69d0ba093",
   "metadata": {},
   "outputs": [],
   "source": [
    "with open (\"tested/label_12.json\", 'r', encoding = 'utf-8') as file:\n",
    "    label = json.load(file)"
   ]
  },
  {
   "cell_type": "code",
   "execution_count": 35,
   "id": "2ae3b582-4a29-462f-99f7-2a40ba6f23b2",
   "metadata": {},
   "outputs": [
    {
     "name": "stdout",
     "output_type": "stream",
     "text": [
      "The function transfers funds to the user before resetting the redeemable balance, making it susceptible to reentrancy.\n"
     ]
    }
   ],
   "source": [
    "print(label['vulnerabilityReason'])"
   ]
  },
  {
   "cell_type": "code",
   "execution_count": 38,
   "id": "41e24b14-f1b5-423f-8c69-bc987bc3d7ff",
   "metadata": {},
   "outputs": [
    {
     "name": "stderr",
     "output_type": "stream",
     "text": [
      "WARNING: Ignoring invalid distribution ~ympy (C:\\Users\\erfan\\OneDrive - polymtlus\\Apps\\Lib\\site-packages)\n",
      "ERROR: Could not install packages due to an OSError: [WinError 145] The directory is not empty: 'c:\\\\users\\\\erfan\\\\onedrive - polymtlus\\\\apps\\\\lib\\\\site-packages\\\\sympy\\\\logic\\\\tests'\n",
      "\n",
      "ERROR: Could not install packages due to an OSError: [Errno 2] No such file or directory: 'C:\\\\Users\\\\erfan\\\\OneDrive - polymtlus\\\\Apps\\\\Lib\\\\site-packages\\\\sympy-1.14.0.dist-info\\\\INSTALLERk3kxt9cm.tmp'\n",
      "\n"
     ]
    }
   ],
   "source": [
    "!pip install -q sentence-transformers"
   ]
  },
  {
   "cell_type": "code",
   "execution_count": null,
   "id": "7114facd-6685-4216-afb2-589de67b0351",
   "metadata": {},
   "outputs": [],
   "source": []
  },
  {
   "cell_type": "code",
   "execution_count": null,
   "id": "d2b6fc0a-f7fd-48f9-97c8-f1b70263d575",
   "metadata": {},
   "outputs": [],
   "source": []
  },
  {
   "cell_type": "code",
   "execution_count": null,
   "id": "31f2f922-b99b-402d-b937-c34bd8179c68",
   "metadata": {},
   "outputs": [],
   "source": []
  },
  {
   "cell_type": "code",
   "execution_count": null,
   "id": "126ad8a8-49e6-405f-9fd3-024786775abf",
   "metadata": {},
   "outputs": [],
   "source": []
  },
  {
   "cell_type": "code",
   "execution_count": 7,
   "id": "0fa3b353-28cf-42cf-a225-139bf0c8ffc9",
   "metadata": {},
   "outputs": [
    {
     "name": "stdout",
     "output_type": "stream",
     "text": [
      "Saved 0 answer blocks to tested/contract_13_12.json\n"
     ]
    }
   ],
   "source": [
    "with open(\"tested/contract_13_12.txt\", 'r', encoding = 'utf-8') as file:\n",
    "    content = file.read()\n",
    "    \n",
    "pattern = r' Integer Overflow/Underflow:\\s*(\\[\\s*{.*?}\\s*\\])'\n",
    "matches = re.findall(pattern, content, flags=re.DOTALL)\n",
    "\n",
    "all_answers = []\n",
    "for match in matches:\n",
    "    try:\n",
    "        json_block = json.loads(match)\n",
    "        all_answers.append(json_block)\n",
    "    except json.JSONDecodeError as e:\n",
    "        print(\"Failed to parse one block:\", e)\n",
    "\n",
    "\n",
    "with open('tested/contract_13_12.json', 'w', encoding='utf-8') as outfile:\n",
    "    for block in all_answers:\n",
    "        json.dump(block, outfile)\n",
    "        outfile.write('\\n')  # Write each JSON object on a new line\n",
    "\n",
    "\n",
    "print(\"Saved\", len(all_answers), \"answer blocks to tested/contract_13_12.json\")"
   ]
  },
  {
   "cell_type": "code",
   "execution_count": 18,
   "id": "04526565-25ce-4f32-9412-4272789e0f5a",
   "metadata": {},
   "outputs": [],
   "source": [
    "a = []\n",
    "with open(\"../test_contracts/results.json\", \"r\", encoding=\"utf-8\") as f:\n",
    "    for line in f:\n",
    "        a.append(json.loads(line))\n"
   ]
  },
  {
   "cell_type": "code",
   "execution_count": 28,
   "id": "38a5101b-2f32-4469-a0d3-3931f1b5231b",
   "metadata": {},
   "outputs": [
    {
     "name": "stdout",
     "output_type": "stream",
     "text": [
      "{'vulnerableLines': '13-19', 'vulnerabilityReason': 'The function is vulnerable to re-entrancy due to a call to an external contract before updating the state. The external call is potentially dangerous as it could be influenced by the timestamp.', 'potentialSecurityRisk': \"An attacker could manipulate the timestamp to re-enter the function and potentially claim the bonus multiple times, essentially draining the contract's funds.\", 'fixedCode': 'function getFirstWithdrawalBonus(address recipient) public {\\nrequire(!claimedBonus[recipient]);\\nrewardsForA[recipient] += 100;\\nclaimedBonus[recipient] = true;\\nwithdrawReward(recipient);\\n}'}\n"
     ]
    }
   ],
   "source": [
    "print(a[1][1])"
   ]
  },
  {
   "cell_type": "code",
   "execution_count": null,
   "id": "b9105f44-bc5d-45e7-8d4c-dd9be2fb98dd",
   "metadata": {},
   "outputs": [],
   "source": [
    "from sentence_transformers import SentenceTransformer, util\n",
    "import json\n",
    "        \n",
    "# Load lightweight sentence embedding model\n",
    "model = SentenceTransformer(\"all-MiniLM-L6-v2\")\n",
    "\n",
    "# Safe JSON parser\n",
    "def safe_parse_json(field):\n",
    "    if not field or field.strip() == \"\":\n",
    "        return {}\n",
    "    if isinstance(field, dict):\n",
    "        return field\n",
    "    try:\n",
    "        return json.loads(field)\n",
    "    except json.JSONDecodeError:\n",
    "        return {}\n",
    "\n",
    "# Compute semantic similarity between label and predicted vulnerabilityReason\n",
    "factual_scores = []\n",
    "\n",
    "for sample in a:  # Use all samples\n",
    "    label = safe_parse_json(sample.get(\"label\", \"\"))\n",
    "    pred = safe_parse_json(sample.get(\"predict\", \"\"))\n",
    "\n",
    "    label_reason = label.get(\"vulnerabilityReason\", \"\")\n",
    "    pred_reason = pred.get(\"vulnerabilityReason\", \"\")\n",
    "\n",
    "    if not label_reason.strip() or not pred_reason.strip():\n",
    "        continue\n",
    "\n",
    "    label_emb = model.encode(label_reason, convert_to_tensor=True)\n",
    "    pred_emb = model.encode(pred_reason, convert_to_tensor=True)\n",
    "\n",
    "    score = util.cos_sim(label_emb, pred_emb).item()\n",
    "    factual_scores.append(score)\n",
    "\n",
    "# Report\n",
    "avg_score = sum(factual_scores) / len(factual_scores) if factual_scores else 0\n",
    "print(f\"Average Factual Consistency Score (Label ↔ Predict Reason): {avg_score:.4f}\")\n"
   ]
  },
  {
   "cell_type": "markdown",
   "id": "e6ebaa50-f319-4733-9b0b-c13328641992",
   "metadata": {},
   "source": [
    "## extract sol from json and save into .sol:"
   ]
  },
  {
   "cell_type": "code",
   "execution_count": null,
   "id": "9c6143c3-2647-40f9-be8e-d20874fc6cce",
   "metadata": {},
   "outputs": [],
   "source": [
    "import json\n",
    "import os\n",
    "import re\n",
    "\n",
    "# Input file path (change as needed)\n",
    "input_file = \"dataset.json\"\n",
    "\n",
    "def extract_solidity_code(text):\n",
    "    # Remove leading number and colon (e.g., '1: ')\n",
    "    lines = text.split('\\n')\n",
    "    clean_lines = []\n",
    "    for line in lines:\n",
    "        # Remove the line number prefix like \"23: \"\n",
    "        match = re.match(r'^\\d+:\\s*(.*)', line)\n",
    "        if match:\n",
    "            clean_lines.append(match.group(1))\n",
    "    return '\\n'.join(clean_lines)\n",
    "\n",
    "with open(input_file, \"r\", encoding=\"utf-8\") as f:\n",
    "    data = json.load(f)  # assumes this is a list of samples\n",
    "\n",
    "for idx, sample in enumerate(data):\n",
    "    raw_input = sample.get(\"input\", \"\")\n",
    "    solidity_code = extract_solidity_code(raw_input)\n",
    "    \n",
    "    # Save to .sol file\n",
    "    file_path = os.path.join( f\"contract_{idx+1}.sol\")\n",
    "    with open(file_path, \"w\", encoding=\"utf-8\") as sol_file:\n",
    "        sol_file.write(solidity_code)\n",
    "      # Parse and save output field as label_i.json\n",
    "    output_raw = sample.get(\"output\", \"\")\n",
    "    try:\n",
    "        output_data = json.loads(output_raw)\n",
    "        label_filename = f\"label_{idx}.json\"\n",
    "        with open(label_filename, \"w\", encoding=\"utf-8\") as label_file:\n",
    "            json.dump(output_data, label_file, indent=2)\n",
    "    except json.JSONDecodeError as e:\n",
    "        print(f\"Failed to parse output for sample {idx}: {e}\")\n",
    "\n",
    "    print(f\" Saved contract_{idx}.sol and label_{idx}.json\")\n"
   ]
  },
  {
   "cell_type": "code",
   "execution_count": null,
   "id": "e33d916a-9aad-40c3-af2e-b611f1fcc525",
   "metadata": {},
   "outputs": [],
   "source": []
  },
  {
   "cell_type": "code",
   "execution_count": null,
   "id": "8d472b32-e8d0-419c-8510-a4e579acbb12",
   "metadata": {},
   "outputs": [],
   "source": []
  }
 ],
 "metadata": {
  "kernelspec": {
   "display_name": "Python 3 (ipykernel)",
   "language": "python",
   "name": "python3"
  },
  "language_info": {
   "codemirror_mode": {
    "name": "ipython",
    "version": 3
   },
   "file_extension": ".py",
   "mimetype": "text/x-python",
   "name": "python",
   "nbconvert_exporter": "python",
   "pygments_lexer": "ipython3",
   "version": "3.12.7"
  }
 },
 "nbformat": 4,
 "nbformat_minor": 5
}
