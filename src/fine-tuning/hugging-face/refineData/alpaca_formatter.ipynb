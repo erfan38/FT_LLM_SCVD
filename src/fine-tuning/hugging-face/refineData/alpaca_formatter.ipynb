{
 "cells": [
  {
   "cell_type": "code",
   "execution_count": 1,
   "id": "ea8f5a03-904c-440e-a18b-1fde8589c9c5",
   "metadata": {},
   "outputs": [],
   "source": [
    "import json\n"
   ]
  },
  {
   "cell_type": "code",
   "execution_count": null,
   "id": "245763b9-3052-47e3-9fad-5be8f569e077",
   "metadata": {},
   "outputs": [],
   "source": []
  },
  {
   "cell_type": "code",
   "execution_count": 2,
   "id": "3aa43b3c-7c89-414f-b3d6-78ad54545d63",
   "metadata": {
    "scrolled": true
   },
   "outputs": [],
   "source": [
    "json_files = [\"alpaca_train_data.json\", \"alpaca_valid_data.json\", \"alpaca_test_data.json\"]\n",
    "def modify_json(json_file):\n",
    "    with open( json_file, \"r\", encoding=\"utf-8\") as f:\n",
    "        data = json.load(f)\n",
    "    \n",
    "    for record in data:\n",
    "        # Overwrite instruction with your fixed message\n",
    "        record[\"instruction\"] = \"you are a cyber security expert that can detect vulnerable line numbers from the contract as well as vulnerableCode, vulnerabilityReason, potentialSecurityRisk, and fixedCode.\"\n",
    "    \n",
    "        input_text = record.get(\"input\", \"\").strip()\n",
    "        lines = input_text.splitlines()\n",
    "    \n",
    "        if lines:\n",
    "            last_line = lines.pop().strip()\n",
    "    \n",
    "        numbered_lines = [last_line+ \"\\n\"] +  [f\"{i + 1}: {line}\" for i, line in enumerate(lines)]\n",
    "        record[\"input\"] = \"\\n\".join(numbered_lines)\n",
    "    return data\n",
    "    \n",
    "\n",
    "vul_data = []\n",
    "for json_file in json_files:\n",
    "    data = modify_json(json_file)\n",
    "    vul_data.extend(data)\n",
    "    \n",
    "# with open(f\"corrected_v1/{json_file}\", \"w\", encoding=\"utf-8\") as f:\n",
    "#     json.dump(data, f, ensure_ascii=False, indent=2)\n"
   ]
  },
  {
   "cell_type": "code",
   "execution_count": 3,
   "id": "10f463fb-0ae6-4b6e-8caa-07b9b14c8bdb",
   "metadata": {
    "scrolled": true
   },
   "outputs": [],
   "source": [
    "# i = 500\n",
    "# print(vul_data[i]['instruction'])\n",
    "# print(vul_data[i]['input'])\n",
    "# print(vul_data[i]['output'])"
   ]
  },
  {
   "cell_type": "code",
   "execution_count": 4,
   "id": "624709e4-668c-415a-856f-1ad6bc770b5a",
   "metadata": {},
   "outputs": [],
   "source": [
    "td_intro = \"find all tiemstamp dependency vulnerabilities and detect vulnerable line numbers from the contract as well as vulnerableCode, vulnerabilityReason, potentialSecurityRisk, and fixedCode based on the instruction.\"\n",
    "re_intro = \"find all Reentrancy vulnerabilities and detect vulnerable line numbers from the contract as well as vulnerableCode, vulnerabilityReason, potentialSecurityRisk, and fixedCode based on the instruction.\"\n",
    "iou_intro = \"find all integeroverflow/underflow vulnerabilities and detect vulnerable line numbers from the contract as well as vulnerableCode, vulnerabilityReason, potentialSecurityRisk, and fixedCode based on the instruction.\""
   ]
  },
  {
   "cell_type": "code",
   "execution_count": 5,
   "id": "c268f1ab-cd97-481d-a9e3-057f71965089",
   "metadata": {},
   "outputs": [],
   "source": [
    "import json\n",
    "\n",
    "jsonl_files = [\"safe_TD.jsonl\", \"safe_RE.jsonl\", \"safe_IoU.jsonl\"]\n",
    "intros = [td_intro, re_intro, iou_intro]\n",
    "\n",
    "\n",
    "def gpt_to_alpaca(gpt_dict):\n",
    "    messages = gpt_dict.get(\"messages\", [])\n",
    "    instruction = \"\"\n",
    "    input_content = \"\"\n",
    "    output = \"\"\n",
    "    for msg in messages:\n",
    "        if msg[\"role\"] == \"system\":\n",
    "            instruction = msg[\"content\"]\n",
    "        elif msg[\"role\"] == \"user\":\n",
    "            input_content = msg[\"content\"]\n",
    "        elif msg[\"role\"] == \"assistant\":\n",
    "            output = msg[\"content\"]\n",
    "    return {\n",
    "        \"instruction\": instruction.strip(),\n",
    "        \"input\": input_content.strip(),\n",
    "        \"output\": output.strip()\n",
    "    }\n",
    "\n",
    "\n",
    "safe_data = []\n",
    "for jsonl_file, intro in zip(jsonl_files, intros):\n",
    "    data = []\n",
    "    with open(jsonl_file, \"r\", encoding=\"utf-8\") as f:\n",
    "        for line in f:\n",
    "            parsed = json.loads(line)\n",
    "            converted = gpt_to_alpaca(parsed)\n",
    "            data.append(converted)\n",
    "\n",
    "\n",
    "    for record in data:\n",
    "        record['input'] = intro + \"\\n\\n\" +  \"\\n\".join([f\"{i + 1}: {line}\" for i, line in enumerate(record[\"input\"].split(\"\\n\"))]) \n",
    "    safe_data.extend(data)\n",
    "safe_data = [rec for rec in safe_data if len(rec['input'].split(\"\\n\")) <= 600]\n"
   ]
  },
  {
   "cell_type": "code",
   "execution_count": null,
   "id": "101102db-9967-4faf-b859-61347b4b6e01",
   "metadata": {
    "scrolled": true
   },
   "outputs": [],
   "source": []
  },
  {
   "cell_type": "code",
   "execution_count": 6,
   "id": "014c81bf-ba17-4372-adaa-74f7debb2ef5",
   "metadata": {},
   "outputs": [],
   "source": [
    "\n",
    "for rec in safe_data:\n",
    "    input = rec['input']\n",
    "    count = len(input.split(\"\\n\"))\n",
    "    if count>600:\n",
    "        print(count)"
   ]
  },
  {
   "cell_type": "code",
   "execution_count": 7,
   "id": "892273bd-f0a7-4819-9061-26ac807010ce",
   "metadata": {},
   "outputs": [],
   "source": [
    "# i = 1000\n",
    "# print(safe_data[i]['instruction'])\n",
    "# print(safe_data[i]['input'])\n",
    "# print(safe_data[i]['output'])"
   ]
  },
  {
   "cell_type": "code",
   "execution_count": 8,
   "id": "8881fc91-e54c-42f2-b4f3-cadef326adb2",
   "metadata": {},
   "outputs": [],
   "source": [
    "dataset = vul_data + safe_data"
   ]
  },
  {
   "cell_type": "code",
   "execution_count": 12,
   "id": "a141cbf7-6ec2-4824-9bf7-652541b932ba",
   "metadata": {},
   "outputs": [],
   "source": [
    "import random\n",
    "\n",
    "random.shuffle(dataset)\n",
    "\n",
    "train_split = 0.8\n",
    "val_split = 0.10\n",
    "test_split = 0.10\n",
    "\n",
    "n = len(dataset)\n",
    "train_end = int(n * train_split)\n",
    "val_end = train_end + int(n * val_split)\n",
    "\n",
    "train_data = dataset[:train_end]\n",
    "val_data = dataset[train_end:val_end]\n",
    "test_data = dataset[val_end:]\n"
   ]
  },
  {
   "cell_type": "code",
   "execution_count": 18,
   "id": "f3796466-a092-4030-a5ca-e1c8c7dba05f",
   "metadata": {
    "scrolled": true
   },
   "outputs": [],
   "source": [
    "with open(f\"corrected_v1/alpaca_train_smart.json\", \"w\", encoding=\"utf-8\") as f:\n",
    "    json.dump(train_data, f, ensure_ascii=False, indent=2)\n",
    "\n",
    "\n",
    "with open(f\"corrected_v1/alpaca_val_smart.json\", \"w\", encoding=\"utf-8\") as f:\n",
    "    json.dump(val_data, f, ensure_ascii=False, indent=2)\n",
    "\n",
    "\n",
    "with open(f\"corrected_v1/alpaca_test_smart.json\", \"w\", encoding=\"utf-8\") as f:\n",
    "    json.dump(test_data, f, ensure_ascii=False, indent=2)"
   ]
  },
  {
   "cell_type": "code",
   "execution_count": 21,
   "id": "be93084e-c4a7-4e36-ae02-e670f26817bc",
   "metadata": {},
   "outputs": [],
   "source": [
    "import json\n",
    "\n",
    "with open('vulnerability_instruction.txt', 'r') as txt_file, open('vulnerability_instruction.jsonl', 'w') as jsonl_file:\n",
    "    for line in txt_file:\n",
    "        data = {\n",
    "            \"instruction\": \"Provide information on the following vulnerability.\",\n",
    "            \"input\": line.strip(),\n",
    "            \"output\": \"\"\n",
    "        }\n",
    "        jsonl_file.write(json.dumps(data) + '\\n')\n"
   ]
  },
  {
   "cell_type": "code",
   "execution_count": 27,
   "id": "c53178cf-a158-47cb-a656-d3d73d9be6fa",
   "metadata": {},
   "outputs": [],
   "source": [
    "with open(\"corrected_v1/alpaca_test_smart.json\", \"r\", encoding=\"utf-8\") as f:\n",
    "    data = json.load(f)\n",
    "\n",
    "with open(\"corrected_v1/alpaca_test_smart_sample.json\", \"w\", encoding=\"utf-8\") as f:\n",
    "    json.dump(data[:10], f, ensure_ascii=False, indent=2)"
   ]
  },
  {
   "cell_type": "code",
   "execution_count": 24,
   "id": "6982b166-981c-467f-b307-0b9dc184ba9c",
   "metadata": {
    "scrolled": true
   },
   "outputs": [
    {
     "data": {
      "text/plain": [
       "191"
      ]
     },
     "execution_count": 24,
     "metadata": {},
     "output_type": "execute_result"
    }
   ],
   "source": [
    "len(data)"
   ]
  },
  {
   "cell_type": "code",
   "execution_count": 118,
   "id": "5581a026-80a6-4a0b-8db1-f4dde2589273",
   "metadata": {},
   "outputs": [],
   "source": [
    "import json\n",
    "pred_data = []\n",
    "with open(\"corrected_v1/generated_predictions.jsonl\", \"r\", encoding=\"utf-8\") as f:\n",
    "    for line in f:\n",
    "       pred_data.append(json.loads(line))\n",
    "a = pred_data[4]"
   ]
  },
  {
   "cell_type": "code",
   "execution_count": 119,
   "id": "288220f9-df8d-44f5-8f39-6b1dab30ddfd",
   "metadata": {
    "scrolled": true
   },
   "outputs": [
    {
     "name": "stdout",
     "output_type": "stream",
     "text": [
      "<|begin_of_text|><|start_header_id|>user<|end_header_id|>\n",
      "\n",
      "you are a cyber security expert that can detect vulnerable line numbers from the contract as well as vulnerableCode, vulnerabilityReason, potentialSecurityRisk, and fixedCode.\n",
      "find all Reentrancy vulnerabilities and detect vulnerable line numbers from the contract as well as vulnerableCode, vulnerabilityReason, potentialSecurityRisk, and fixedCode based on the instruction.\n",
      "\n",
      "1: pragma solidity ^0.4.19;\n",
      "2: \n",
      "3: contract PENNY_BY_PENNY  \n",
      "4: {\n",
      "5:     struct Holder   \n",
      "6:     {\n",
      "7:         uint unlockTime;\n",
      "8:         uint balance;\n",
      "9:     }\n",
      "10:     \n",
      "11:     mapping (address => Holder) public Acc;\n",
      "12:     \n",
      "13:     uint public MinSum;\n",
      "14:     \n",
      "15:     LogFile Log;\n",
      "16:     \n",
      "17:     bool intitalized;\n",
      "18:     \n",
      "19:     function SetMinSum(uint _val)\n",
      "20:     public\n",
      "21:     {\n",
      "22:         if(intitalized)throw;\n",
      "23:         MinSum = _val;\n",
      "24:     }\n",
      "25:     \n",
      "26:     function SetLogFile(address _log)\n",
      "27:     public\n",
      "28:     {\n",
      "29:         if(intitalized)throw;\n",
      "30:         Log = LogFile(_log);\n",
      "31:     }\n",
      "32:     \n",
      "33:     function Initialized()\n",
      "34:     public\n",
      "35:     {\n",
      "36:         intitalized = true;\n",
      "37:     }\n",
      "38:     \n",
      "39:     function Put(uint _lockTime)\n",
      "40:     public\n",
      "41:     payable\n",
      "42:     {\n",
      "43:         var acc = Acc[msg.sender];\n",
      "44:         acc.balance += msg.value;\n",
      "45:         if(now+_lockTime>acc.unlockTime)acc.unlockTime=now+_lockTime;\n",
      "46:         Log.AddMessage(msg.sender,msg.value,\"Put\");\n",
      "47:     }\n",
      "48:     \n",
      "49:     function Collect(uint _am)\n",
      "50:     public\n",
      "51:     payable\n",
      "52:     {\n",
      "53:         var acc = Acc[msg.sender];\n",
      "54:         if( acc.balance>=MinSum && acc.balance>=_am && now>acc.unlockTime)\n",
      "55:         {\n",
      "56:             \n",
      "57:             if(msg.sender.call.value(_am)())\n",
      "58:             {\n",
      "59:                 acc.balance-=_am;\n",
      "60:                 Log.AddMessage(msg.sender,_am,\"Collect\");\n",
      "61:             }\n",
      "62:         }\n",
      "63:     }\n",
      "64:     \n",
      "65:     function() \n",
      "66:     public \n",
      "67:     payable\n",
      "68:     {\n",
      "69:         Put(0);\n",
      "70:     }\n",
      "71:     \n",
      "72: }\n",
      "73: \n",
      "74: \n",
      "75: contract LogFile\n",
      "76: {\n",
      "77:     struct Message\n",
      "78:     {\n",
      "79:         address Sender;\n",
      "80:         string  Data;\n",
      "81:         uint Val;\n",
      "82:         uint  Time;\n",
      "83:     }\n",
      "84:     \n",
      "85:     Message[] public History;\n",
      "86:     \n",
      "87:     Message LastMsg;\n",
      "88:     \n",
      "89:     function AddMessage(address _adr,uint _val,string _data)\n",
      "90:     public\n",
      "91:     {\n",
      "92:         LastMsg.Sender = _adr;\n",
      "93:         LastMsg.Time = now;\n",
      "94:         LastMsg.Val = _val;\n",
      "95:         LastMsg.Data = _data;\n",
      "96:         History.push(LastMsg);\n",
      "97:     }\n",
      "98: }\n",
      "99: <|eot_id|><|start_header_id|>assistant<|end_header_id|>\n",
      "\n",
      "\n"
     ]
    }
   ],
   "source": [
    "print(a['prompt'])"
   ]
  },
  {
   "cell_type": "code",
   "execution_count": 120,
   "id": "2f9538fa-b982-4418-944c-e1c6847b7969",
   "metadata": {
    "scrolled": true
   },
   "outputs": [
    {
     "name": "stdout",
     "output_type": "stream",
     "text": [
      "{\n",
      "    \"vulnerabilities\": [\n",
      "        {\n",
      "            \"vulnerableLines\": \"57-59\",\n",
      "            \"vulnerableCode\": [\n",
      "                \"            if(msg.sender.call.value(_am)())\",\n",
      "                \"            {\",\n",
      "                \"                acc.balance-=_am;\"\n",
      "            ],\n",
      "            \"vulnerabilityReason\": \"The function attempts to send Ether to'msg.sender' using 'call.value(_am)()' before deducting the amount from 'acc.balance'. This opens the door for a reentrancy attack where an attacker could invoke the 'Collect' function recursively and drain the contract's funds before the balance is updated.\",\n",
      "            \"potentialSecurityRisk\": \"An attacker could exploit this vulnerability by calling the 'Collect' function through a malicious contract with a fallback function, allowing them to withdraw more Ether than intended before the balance is reduced, potentially leading to significant financial loss for the contract owner.\",\n",
      "            \"fixedCode\": \"            acc.balance -= _am;  // Update balance first\\n            if(!msg.sender.call.value(_am)()) {\\n                acc.balance += _am;  // Revert balance if transfer fails\\n            } else {\\n                Log.AddMessage(msg.sender, _am, \\\"Collect\\\");\\n            } // Update the balance before making the external call to prevent reentrancy attacks and add a failure check.\"\n",
      "        }\n",
      "    ]\n",
      "}\n"
     ]
    }
   ],
   "source": [
    "print(a['label'])"
   ]
  },
  {
   "cell_type": "code",
   "execution_count": 121,
   "id": "3e2163c2-67d8-492a-9925-e39cf0d854ba",
   "metadata": {},
   "outputs": [
    {
     "name": "stdout",
     "output_type": "stream",
     "text": [
      "{\n",
      "    \"vulnerabilities\": [\n",
      "        {\n",
      "            \"vulnerableLines\": \"57-57\",\n",
      "            \"vulnerableCode\": [\n",
      "                \"            if(msg.sender.call.value(_am)())\"\n",
      "            ],\n",
      "            \"vulnerabilityReason\": \"The contract performs an external call to `msg.sender` using `call.value(_am)()` before updating the user's balance. This allows a malicious contract to re-enter the `Collect` function before the balance is decremented, potentially allowing it to withdraw more funds than it should.\",\n",
      "            \"potentialSecurityRisk\": \"An attacker could exploit this vulnerability by deploying a malicious contract that re-enters the `Collect` function during the external call, allowing it to drain funds from the contract before the balance is updated.\",\n",
      "            \"fixedCode\": \"            acc.balance -= _am; // Update balance before external call\\n            if(!msg.sender.call.value(_am)()) { // External call after balance update\\n                acc.balance += _am; // Revert balance if transfer fails\\n            } else {\\n                Log.AddMessage(msg.sender, _am, \\\"Collect\\\");\\n            } // Fixed: Updated balance before external call and handled potential transfer failures.\"\n",
      "        }\n",
      "    ]\n",
      "}\n"
     ]
    }
   ],
   "source": [
    "print(a['predict'])"
   ]
  },
  {
   "cell_type": "code",
   "execution_count": null,
   "id": "8e94390d-4942-41a2-b718-1257703d5f57",
   "metadata": {},
   "outputs": [],
   "source": []
  },
  {
   "cell_type": "code",
   "execution_count": null,
   "id": "943ff269-5cb4-4ca4-aafc-29ca28cafdc0",
   "metadata": {},
   "outputs": [],
   "source": []
  }
 ],
 "metadata": {
  "kernelspec": {
   "display_name": "Python 3 (ipykernel)",
   "language": "python",
   "name": "python3"
  },
  "language_info": {
   "codemirror_mode": {
    "name": "ipython",
    "version": 3
   },
   "file_extension": ".py",
   "mimetype": "text/x-python",
   "name": "python",
   "nbconvert_exporter": "python",
   "pygments_lexer": "ipython3",
   "version": "3.9.20"
  }
 },
 "nbformat": 4,
 "nbformat_minor": 5
}
