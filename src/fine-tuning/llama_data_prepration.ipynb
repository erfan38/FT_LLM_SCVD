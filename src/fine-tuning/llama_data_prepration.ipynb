{
 "cells": [
  {
   "cell_type": "code",
   "execution_count": 33,
   "id": "eaff1fda-1138-445a-b0af-a9a105ab00bb",
   "metadata": {},
   "outputs": [],
   "source": [
    "import json\n",
    "import random\n"
   ]
  },
  {
   "cell_type": "code",
   "execution_count": 34,
   "id": "1be0c7b6-84ba-42b9-8872-649014c9f956",
   "metadata": {},
   "outputs": [
    {
     "name": "stdout",
     "output_type": "stream",
     "text": [
      "Loaded 1266 entries\n"
     ]
    }
   ],
   "source": [
    "\n",
    "gpt_data = []\n",
    "with open(\"final_dataset.jsonl\", \"r\", encoding=\"utf-8\") as f:\n",
    "    for line in f:\n",
    "        gpt_data.append(json.loads(line))\n",
    "\n",
    "print(\"Loaded\", len(gpt_data), \"entries\")\n"
   ]
  },
  {
   "cell_type": "code",
   "execution_count": 35,
   "id": "5a5e7bbe-a7ab-4429-9ac0-63247e7609f2",
   "metadata": {},
   "outputs": [],
   "source": [
    "import json\n",
    "\n",
    "gpt_data = []\n",
    "with open(\"final_dataset.jsonl\", \"r\", encoding=\"utf-8\") as f:\n",
    "    for line in f:\n",
    "        gpt_data.append(json.loads(line))\n",
    "\n",
    "\n",
    "def gpt_to_alpaca(gpt_dict):\n",
    "    messages = gpt_dict.get(\"messages\", [])\n",
    "    instruction = \"\"\n",
    "    input_content = \"\"\n",
    "    output = \"\"\n",
    "    for msg in messages:\n",
    "        if msg[\"role\"] == \"system\":\n",
    "            instruction = msg[\"content\"]\n",
    "        elif msg[\"role\"] == \"user\":\n",
    "            input_content = msg[\"content\"]\n",
    "        elif msg[\"role\"] == \"assistant\":\n",
    "            output = msg[\"content\"]\n",
    "    return {\n",
    "        \"instruction\": instruction.strip(),\n",
    "        \"input\": input_content.strip(),\n",
    "        \"output\": output.strip()\n",
    "    }\n",
    "alpaca_data = [gpt_to_alpaca(d) for d in gpt_data]\n"
   ]
  },
  {
   "cell_type": "code",
   "execution_count": 36,
   "id": "818fe38f-6c8f-47bd-a504-d0fffe16f7d8",
   "metadata": {},
   "outputs": [
    {
     "data": {
      "text/plain": [
       "dict_keys(['instruction', 'input', 'output'])"
      ]
     },
     "execution_count": 36,
     "metadata": {},
     "output_type": "execute_result"
    }
   ],
   "source": [
    "alpaca_data = [gpt_to_alpaca(d) for d in gpt_data]\n",
    "alpaca_data[1].keys()\n"
   ]
  },
  {
   "cell_type": "code",
   "execution_count": 37,
   "id": "960e89be-1528-472d-9d80-86b960c0d330",
   "metadata": {},
   "outputs": [
    {
     "name": "stdout",
     "output_type": "stream",
     "text": [
      "train: 949, valid: 126, test: 191\n"
     ]
    }
   ],
   "source": [
    "\n",
    "random.shuffle(alpaca_data)\n",
    "\n",
    "n = len(alpaca_data)\n",
    "n_train = int(0.75 * n)\n",
    "n_valid = int(0.10 * n)\n",
    "n_test  = n - n_train - n_valid  # ensures all entries are used\n",
    "\n",
    "train_data = alpaca_data[:n_train]\n",
    "valid_data = alpaca_data[n_train:n_train+n_valid]\n",
    "test_data  = alpaca_data[n_train+n_valid:]\n",
    "\n",
    "with open(\"train_data.json\", \"w\", encoding=\"utf-8\") as f:\n",
    "    json.dump(train_data, f, ensure_ascii=False, indent=2)\n",
    "\n",
    "with open(\"valid_data.json\", \"w\", encoding=\"utf-8\") as f:\n",
    "    json.dump(valid_data, f, ensure_ascii=False, indent=2)\n",
    "\n",
    "with open(\"test_data.json\", \"w\", encoding=\"utf-8\") as f:\n",
    "    json.dump(test_data, f, ensure_ascii=False, indent=2)\n",
    "\n",
    "print(f\"train: {len(train_data)}, valid: {len(valid_data)}, test: {len(test_data)}\")\n"
   ]
  },
  {
   "cell_type": "code",
   "execution_count": 38,
   "id": "20758b29-e0ca-4320-a6c9-6741e7c5139b",
   "metadata": {},
   "outputs": [
    {
     "name": "stdout",
     "output_type": "stream",
     "text": [
      "2339d0099d4d2be1062bb1ac3215b389a6af2cc7\n"
     ]
    }
   ],
   "source": [
    "import hashlib\n",
    "\n",
    "def sha1sum(filename):\n",
    "    with open(filename, 'rb') as f:\n",
    "        return hashlib.sha1(f.read()).hexdigest()\n",
    "\n",
    "sha1 = sha1sum(\"train_data.json\")\n",
    "print(sha1)"
   ]
  },
  {
   "cell_type": "code",
   "execution_count": null,
   "id": "907e0907-9f56-427d-aae4-5cb5b6b23ce5",
   "metadata": {},
   "outputs": [],
   "source": []
  }
 ],
 "metadata": {
  "kernelspec": {
   "display_name": "Python 3 (ipykernel)",
   "language": "python",
   "name": "python3"
  },
  "language_info": {
   "codemirror_mode": {
    "name": "ipython",
    "version": 3
   },
   "file_extension": ".py",
   "mimetype": "text/x-python",
   "name": "python",
   "nbconvert_exporter": "python",
   "pygments_lexer": "ipython3",
   "version": "3.9.20"
  }
 },
 "nbformat": 4,
 "nbformat_minor": 5
}
