{
 "cells": [
  {
   "cell_type": "code",
   "execution_count": 1,
   "id": "657b09a0-67cb-4c87-924b-0d7bbcfc16a7",
   "metadata": {},
   "outputs": [],
   "source": [
    "import json"
   ]
  },
  {
   "cell_type": "code",
   "execution_count": 2,
   "id": "abef1629-fa02-4e33-9424-625a3ff1d670",
   "metadata": {},
   "outputs": [],
   "source": [
    "with open(\"dataset/source3_reentrancy.json\", \"r\",  encoding=\"utf-8\") as file:\n",
    "    data = json.load(file)"
   ]
  },
  {
   "cell_type": "code",
   "execution_count": 5,
   "id": "b94610de-5ac1-4a3c-8d31-4e8d4415f80e",
   "metadata": {},
   "outputs": [
    {
     "data": {
      "text/plain": [
       "dict_keys(['instruction', 'input', 'output'])"
      ]
     },
     "execution_count": 5,
     "metadata": {},
     "output_type": "execute_result"
    }
   ],
   "source": [
    "data[0].keys()"
   ]
  },
  {
   "cell_type": "code",
   "execution_count": 15,
   "id": "109d8d36-84a8-4b9e-bf30-16f24f476e73",
   "metadata": {},
   "outputs": [],
   "source": [
    "for record in data:\n",
    "    contract = record['input']\n",
    "    contract = \"-- \" + contract\n",
    "    numbered_contract = contract.replace(\"\\n\", \"\\n-- \")"
   ]
  },
  {
   "cell_type": "code",
   "execution_count": 16,
   "id": "8b27f2f4-5aa4-4c3f-b57a-b27b95b55043",
   "metadata": {},
   "outputs": [
    {
     "name": "stdout",
     "output_type": "stream",
     "text": [
      "-- contract ExampleFlashSwap is IUniswapV2Callee {\n",
      "--     IUniswapV1Factory immutable factoryV1;\n",
      "--     address immutable factory;\n",
      "--     IWETH immutable WETH;\n",
      "-- \n",
      "--     constructor(address _factory, address _factoryV1, address router) public {\n",
      "--         factoryV1 = IUniswapV1Factory(_factoryV1);\n",
      "--         factory = _factory;\n",
      "--         WETH = IWETH(IUniswapV2Router01(router).WETH());\n",
      "--     }\n",
      "-- \n",
      "--     // needs to accept ETH from any V1 exchange and WETH. ideally this could be enforced, as in the router,\n",
      "--     // but it's not possible because it requires a call to the v1 factory, which takes too much gas\n",
      "--     receive() external payable {}\n",
      "-- \n",
      "--     // gets tokens/WETH via a V2 flash swap, swaps for the ETH/tokens on V1, repays V2, and keeps the rest!\n",
      "--     function uniswapV2Call(address sender, uint amount0, uint amount1, bytes calldata data) external override {\n",
      "--         address[] memory path = new address[](2);\n",
      "--         uint amountToken;\n",
      "--         uint amountETH;\n",
      "--         { // scope for token{0,1}, avoids stack too deep errors\n",
      "--         address token0 = IUniswapV2Pair(msg.sender).token0();\n",
      "--         address token1 = IUniswapV2Pair(msg.sender).token1();\n",
      "--         assert(msg.sender == UniswapV2Library.pairFor(factory, token0, token1)); // ensure that msg.sender is actually a V2 pair\n",
      "--         assert(amount0 == 0 || amount1 == 0); // this strategy is unidirectional\n",
      "--         path[0] = amount0 == 0 ? token0 : token1;\n",
      "--         path[1] = amount0 == 0 ? token1 : token0;\n",
      "--         amountToken = token0 == address(WETH) ? amount1 : amount0;\n",
      "--         amountETH = token0 == address(WETH) ? amount0 : amount1;\n",
      "--         }\n",
      "-- \n",
      "--         assert(path[0] == address(WETH) || path[1] == address(WETH)); // this strategy only works with a V2 WETH pair\n",
      "--         IERC20 token = IERC20(path[0] == address(WETH) ? path[1] : path[0]);\n",
      "--         IUniswapV1Exchange exchangeV1 = IUniswapV1Exchange(factoryV1.getExchange(address(token))); // get V1 exchange\n",
      "-- \n",
      "--         if (amountToken > 0) {\n",
      "--             (uint minETH) = abi.decode(data, (uint)); // slippage parameter for V1, passed in by caller\n",
      "--             token.approve(address(exchangeV1), amountToken);\n",
      "--             uint amountReceived = exchangeV1.tokenToEthSwapInput(amountToken, minETH, uint(-1));\n",
      "--             uint amountRequired = UniswapV2Library.getAmountsIn(factory, amountToken, path)[0];\n",
      "--             assert(amountReceived > amountRequired); // fail if we didn't get enough ETH back to repay our flash loan\n",
      "--             WETH.deposit{value: amountRequired}();\n",
      "--             assert(WETH.transfer(msg.sender, amountRequired)); // return WETH to V2 pair\n",
      "--             (bool success,) = sender.call{value: amountReceived - amountRequired}(new bytes(0)); // keep the rest! (ETH)\n",
      "--             assert(success);\n",
      "--         } else {\n",
      "--             (uint minTokens) = abi.decode(data, (uint)); // slippage parameter for V1, passed in by caller\n",
      "--             WETH.withdraw(amountETH);\n",
      "--             uint amountReceived = exchangeV1.ethToTokenSwapInput{value: amountETH}(minTokens, uint(-1));\n",
      "--             uint amountRequired = UniswapV2Library.getAmountsIn(factory, amountETH, path)[0];\n",
      "--             assert(amountReceived > amountRequired); // fail if we didn't get enough tokens back to repay our flash loan\n",
      "--             assert(token.transfer(msg.sender, amountRequired)); // return tokens to V2 pair\n",
      "--             assert(token.transfer(sender, amountReceived - amountRequired)); // keep the rest! (tokens)\n",
      "--         }\n",
      "--     }\n",
      "-- }\n",
      "-- \n"
     ]
    }
   ],
   "source": [
    "print(numbered_contract)"
   ]
  },
  {
   "cell_type": "code",
   "execution_count": null,
   "id": "35aea96e-a151-461b-a40d-c154ef65ba18",
   "metadata": {},
   "outputs": [],
   "source": []
  }
 ],
 "metadata": {
  "kernelspec": {
   "display_name": "Python 3 (ipykernel)",
   "language": "python",
   "name": "python3"
  },
  "language_info": {
   "codemirror_mode": {
    "name": "ipython",
    "version": 3
   },
   "file_extension": ".py",
   "mimetype": "text/x-python",
   "name": "python",
   "nbconvert_exporter": "python",
   "pygments_lexer": "ipython3",
   "version": "3.12.7"
  }
 },
 "nbformat": 4,
 "nbformat_minor": 5
}
